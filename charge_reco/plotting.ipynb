{
 "cells": [
  {
   "cell_type": "code",
   "execution_count": null,
   "id": "27f94dea-2cff-417f-8c6f-02e66278deae",
   "metadata": {
    "tags": []
   },
   "outputs": [],
   "source": [
    "import plotting\n",
    "import numpy as np\n",
    "import matplotlib.pyplot as plt\n",
    "import h5py\n",
    "import importlib\n",
    "importlib.reload(plotting)"
   ]
  },
  {
   "cell_type": "code",
   "execution_count": null,
   "id": "ccce9163-3c19-4c0f-beae-998f3ea597e6",
   "metadata": {
    "tags": []
   },
   "outputs": [],
   "source": [
    "filepath = '/global/cfs/cdirs/dune/users/sfogarty/Module1_reco/39Ar_reco_09132023/tagged_clusters_with_cuts_module-1.h5'\n",
    "f = h5py.File(filepath, 'r')\n",
    "clusters = f['clusters']"
   ]
  },
  {
   "cell_type": "code",
   "execution_count": null,
   "id": "ed9fd203-c708-4d93-8347-aa6c876c242c",
   "metadata": {
    "tags": []
   },
   "outputs": [],
   "source": [
    "plotting.XY_Hist2D(clusters)"
   ]
  },
  {
   "cell_type": "code",
   "execution_count": null,
   "id": "f8097e3e-64ac-4fb0-b2fa-ea97f0593689",
   "metadata": {
    "tags": []
   },
   "outputs": [],
   "source": [
    "plotting.XZ_Hist2D(clusters, vmax=1e2)"
   ]
  },
  {
   "cell_type": "code",
   "execution_count": null,
   "id": "0f2d7acb-b362-459e-a44d-619d8770f5dd",
   "metadata": {
    "tags": []
   },
   "outputs": [],
   "source": [
    "plotting.plotRecoSpectrum(clusters, nbins=300, useYlog=True)"
   ]
  },
  {
   "cell_type": "code",
   "execution_count": null,
   "id": "965fd97b-b8de-42e5-81a2-75d17da13819",
   "metadata": {},
   "outputs": [],
   "source": []
  }
 ],
 "metadata": {
  "kernelspec": {
   "display_name": "NERSC Python",
   "language": "python",
   "name": "python3"
  },
  "language_info": {
   "codemirror_mode": {
    "name": "ipython",
    "version": 3
   },
   "file_extension": ".py",
   "mimetype": "text/x-python",
   "name": "python",
   "nbconvert_exporter": "python",
   "pygments_lexer": "ipython3",
   "version": "3.11.6"
  }
 },
 "nbformat": 4,
 "nbformat_minor": 5
}
