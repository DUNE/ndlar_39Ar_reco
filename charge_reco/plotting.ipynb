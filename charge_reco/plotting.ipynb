{
 "cells": [
  {
   "cell_type": "code",
   "execution_count": null,
   "id": "27f94dea-2cff-417f-8c6f-02e66278deae",
   "metadata": {
    "tags": []
   },
   "outputs": [],
   "source": [
    "import plotting\n",
    "import numpy as np\n",
    "import matplotlib.pyplot as plt\n",
    "import h5py\n",
    "import importlib\n",
    "importlib.reload(plotting)"
   ]
  },
  {
   "cell_type": "code",
   "execution_count": null,
   "id": "ccce9163-3c19-4c0f-beae-998f3ea597e6",
   "metadata": {
    "tags": []
   },
   "outputs": [],
   "source": [
    "filepath = '/global/cfs/cdirs/dune/users/sfogarty/Module0_reco/39Ar_reco/charge-light-matched-clusters_2021_04_04_09_38_27_CEST_with-cuts.h5'\n",
    "f = h5py.File(filepath, 'r')\n",
    "clusters = f['clusters']\n",
    "plotting.XY_Hist2D(clusters)"
   ]
  },
  {
   "cell_type": "code",
   "execution_count": null,
   "id": "994e6ba1-87db-4b65-a968-b36112f3242f",
   "metadata": {
    "tags": []
   },
   "outputs": [],
   "source": [
    "%matplotlib widget\n",
    "plotting.matching_purity(clusters, q_bins=6)"
   ]
  },
  {
   "cell_type": "markdown",
   "id": "c67cf86f-837d-451a-9991-c76f62981e8b",
   "metadata": {},
   "source": [
    "plotting.matching_purity(clusters)"
   ]
  },
  {
   "cell_type": "code",
   "execution_count": null,
   "id": "f966a069-6b23-474c-a2d8-9ac47c0ec78e",
   "metadata": {
    "tags": []
   },
   "outputs": [],
   "source": [
    "plotting.plotRecoSpectrum(clusters, nbins=100, useYlog=False)"
   ]
  },
  {
   "cell_type": "code",
   "execution_count": null,
   "id": "db8672db-d2fa-4596-888d-5027b62159b0",
   "metadata": {
    "tags": []
   },
   "outputs": [],
   "source": [
    "# plot for all clusters\n",
    "filepath = '/global/cfs/cdirs/dune/users/sfogarty/Module0_reco/39Ar_reco/datalog_2021_04_04_09_38_27_CEST_clusters.h5'\n",
    "f = h5py.File(filepath, 'r')\n",
    "clusters = f['clusters'][(f['clusters']['nhit'] < 10)]\n",
    "plotting.XY_Hist2D(clusters, use_z_cut=False, vmin=10, vmax=5e2)"
   ]
  },
  {
   "cell_type": "code",
   "execution_count": null,
   "id": "f8097e3e-64ac-4fb0-b2fa-ea97f0593689",
   "metadata": {
    "tags": []
   },
   "outputs": [],
   "source": [
    "plotting.XZ_Hist2D(clusters, vmax=3e1)"
   ]
  },
  {
   "cell_type": "code",
   "execution_count": null,
   "id": "0f2d7acb-b362-459e-a44d-619d8770f5dd",
   "metadata": {
    "tags": []
   },
   "outputs": [],
   "source": [
    "plotting.plotRecoSpectrum(clusters, nbins=300, useYlog=True)"
   ]
  },
  {
   "cell_type": "code",
   "execution_count": null,
   "id": "965fd97b-b8de-42e5-81a2-75d17da13819",
   "metadata": {},
   "outputs": [],
   "source": [
    "# multiple files\n",
    "importlib.reload(plotting)\n",
    "folder = '/global/cfs/cdirs/dune/users/sfogarty/Module0_reco/39Ar_reco/'\n",
    "filenames = ['cluster_selection_module-2_2022_11_20_19_36_CET.h5', \\\n",
    "            'cluster_selection_module-2_2022_11_20_19_56_CET.h5', \\\n",
    "            'cluster_selection_module-2_2022_11_20_20_16_CET.h5', \\\n",
    "            'cluster_selection_module-2_2022_11_20_20_36_CET.h5', \\\n",
    "            'cluster_selection_module-2_2022_11_20_20_56_CET.h5', \\\n",
    "            'cluster_selection_module-2_2022_11_20_21_16_CET.h5', \\\n",
    "            'cluster_selection_module-2_2022_11_20_21_36_CET.h5', \\\n",
    "            'cluster_selection_module-2_2022_11_20_21_56_CET.h5', \\\n",
    "            'cluster_selection_module-2_2022_11_20_22_16_CET.h5']\n",
    "filenames = ['datalog_2021_04_04_09_38_27_CEST_clusters.h5']\n",
    "all_clusters = 0\n",
    "for i, filename in enumerate(filenames):\n",
    "    f = h5py.File(folder+filename, 'r')\n",
    "    if i == 0:\n",
    "        all_clusters = np.array(f['clusters'])\n",
    "    else:\n",
    "        all_clusters = np.concatenate((all_clusters, np.array(f['clusters'])))\n",
    "    f.close()\n",
    "#plotting.XZ_Hist2D(all_clusters, vmax=1e1)\n",
    "#plotting.XY_Hist2D(all_clusters)\n",
    "plotting.plotRecoSpectrum(all_clusters, nbins=200, useYlog=False, calibrate=True, bin_start=0)"
   ]
  },
  {
   "cell_type": "code",
   "execution_count": null,
   "id": "28f229fd-bca3-4599-ad4a-61f9ea1ced25",
   "metadata": {},
   "outputs": [],
   "source": []
  }
 ],
 "metadata": {
  "kernelspec": {
   "display_name": "NERSC Python",
   "language": "python",
   "name": "python3"
  },
  "language_info": {
   "codemirror_mode": {
    "name": "ipython",
    "version": 3
   },
   "file_extension": ".py",
   "mimetype": "text/x-python",
   "name": "python",
   "nbconvert_exporter": "python",
   "pygments_lexer": "ipython3",
   "version": "3.11.6"
  }
 },
 "nbformat": 4,
 "nbformat_minor": 5
}
