{
 "cells": [
  {
   "cell_type": "code",
   "execution_count": null,
   "id": "eb49dfc1-3e7f-459e-9814-3c3b48c08609",
   "metadata": {
    "tags": []
   },
   "outputs": [],
   "source": [
    "import plotting\n",
    "import numpy as np\n",
    "import matplotlib.pyplot as plt\n",
    "import h5py\n",
    "import importlib\n",
    "importlib.reload(plotting)"
   ]
  },
  {
   "cell_type": "code",
   "execution_count": null,
   "id": "687c85da-2970-43bc-a2f8-0836f8a62f22",
   "metadata": {
    "tags": []
   },
   "outputs": [],
   "source": [
    "# module 0 run 1\n",
    "from tqdm import tqdm\n",
    "folder = '/global/cfs/cdirs/dune/users/sfogarty/Module0_run1_reco/39Ar_reco/'\n",
    "files = ['charge-light-matched-clusters_2021_04_04_09_38_27_CEST.h5',\\\n",
    "'charge-light-matched-clusters_2021_04_04_09_58_31_CEST.h5', \\\n",
    "'charge-light-matched-clusters_2021_04_04_10_38_37_CEST.h5', \\\n",
    "'charge-light-matched-clusters_2021_04_04_11_18_41_CEST.h5', \\\n",
    "'charge-light-matched-clusters_2021_04_04_11_38_43_CEST.h5', \\\n",
    "'charge-light-matched-clusters_2021_04_04_12_18_48_CEST.h5', \\\n",
    "'charge-light-matched-clusters_2021_04_04_13_18_54_CEST.h5', \\\n",
    "'charge-light-matched-clusters_2021_04_04_13_38_56_CEST.h5', \\\n",
    "'charge-light-matched-clusters_2021_04_04_14_19_01_CEST.h5', \\\n",
    "'charge-light-matched-clusters_2021_04_04_14_39_03_CEST.h5', \\\n",
    "'charge-light-matched-clusters_2021_04_04_15_19_07_CEST.h5', \\\n",
    "'charge-light-matched-clusters_2021_04_04_16_59_17_CEST.h5', \\\n",
    "'charge-light-matched-clusters_2021_04_04_17_19_19_CEST.h5', \\\n",
    "'charge-light-matched-clusters_2021_04_04_17_39_22_CEST.h5', \\\n",
    "'charge-light-matched-clusters_2021_04_04_17_59_24_CEST.h5']\n",
    "\n",
    "shape = 'rect'\n",
    "d = 100\n",
    "ellipse_b = 150\n",
    "use_proximity_cut = True\n",
    "corner_tolerance = 25\n",
    "light_matches = []\n",
    "\n",
    "for i,file in enumerate(tqdm(files)):\n",
    "    f = h5py.File(folder+file, 'r')\n",
    "    #print(len(np.unique(f['clusters']['unix']))/60)\n",
    "    if use_proximity_cut:\n",
    "        clusters, light_matches_dict = plotting.apply_proximity_cut(f, shape, d, ellipse_b, corner_tolerance)\n",
    "        light_matches.append(light_matches_dict)\n",
    "    else:\n",
    "        clusters = np.array(f['clusters'])[(f['clusters']['light_trig_index'] != -1).sum(axis=1) == 1]  \n",
    "    if i == 0:\n",
    "        clusters_all = np.array(clusters)\n",
    "    else:\n",
    "        clusters_all = np.concatenate((clusters_all, clusters))\n",
    "        "
   ]
  },
  {
   "cell_type": "code",
   "execution_count": null,
   "id": "43cb7a71-eed2-4fb8-8617-a934e82fb271",
   "metadata": {
    "tags": []
   },
   "outputs": [],
   "source": [
    "importlib.reload(plotting)\n",
    "filename = 'module0_data_withcuts_March102024.npz'\n",
    "plotting.saveNPZ(filename, light_matches, files)"
   ]
  },
  {
   "cell_type": "code",
   "execution_count": null,
   "id": "fba5d5f5-47bf-4b50-a925-650ca15018b9",
   "metadata": {
    "tags": []
   },
   "outputs": [],
   "source": [
    "importlib.reload(plotting)\n",
    "if use_proximity_cut:\n",
    "    text = 'With'\n",
    "else:\n",
    "    text = 'No'\n",
    "time_per_file = 20*60\n",
    "total_time = len(files)*time_per_file\n",
    "imageFileName=f'39Ar_plots_Mar2024/Revision_1/Module0_Zreco_MatchingPurity_{text}OptProxCut_Log.pdf'\n",
    "imageFileName=None\n",
    "plotting.matching_purity(clusters_all, total_time, q_bins=6, q_range=[0, 200], plot_vlines=True, plot_log_scale=True, plot_legend=True, figTitle=None, imageFileName=imageFileName, ylim=[1,3e4])"
   ]
  },
  {
   "cell_type": "code",
   "execution_count": null,
   "id": "7532943b-3bc7-4a2e-8521-49f7b4c16d99",
   "metadata": {
    "tags": []
   },
   "outputs": [],
   "source": [
    "importlib.reload(plotting)\n",
    "if use_proximity_cut:\n",
    "    text = 'With'\n",
    "else:\n",
    "    text = 'No'\n",
    "imageFileName=f'39Ar_plots_Mar2024/Revision_1/module0_xy_t0tagged_{text}OptProxCut.pdf'\n",
    "imageFileName=None\n",
    "plotting.XY_Hist2D(clusters_all, vmin=1, vmax=1.0e2, use_z_cut=True, figTitle=None, imageFileName=imageFileName)"
   ]
  },
  {
   "cell_type": "code",
   "execution_count": null,
   "id": "c548b1df-7571-47f3-817e-bc47c1dd996a",
   "metadata": {
    "tags": []
   },
   "outputs": [],
   "source": [
    "importlib.reload(plotting)\n",
    "if use_proximity_cut:\n",
    "    text = 'With'\n",
    "else:\n",
    "    text = 'No'\n",
    "imageFileName=f'39Ar_plots_Mar2024/Revision_1/Module0_XZ_{text}OptProxCut.pdf'\n",
    "#imageFileName=None\n",
    "plotting.XZ_Hist2D(clusters_all, vmin=1, vmax=3e2, figTitle=None, imageFileName=imageFileName, bins=140)"
   ]
  },
  {
   "cell_type": "code",
   "execution_count": null,
   "id": "2ab34080-e4ab-4ff8-93c9-2b3c5c21b8ae",
   "metadata": {
    "tags": []
   },
   "outputs": [],
   "source": [
    "importlib.reload(plotting)\n",
    "if use_proximity_cut:\n",
    "    text = 'With'\n",
    "else:\n",
    "    text = 'No'\n",
    "imageFileName=f'39Ar_plots_Mar2024/Revision_1/Module0_ZY_{text}OptProxCut.pdf'\n",
    "#imageFileName=None\n",
    "plotting.ZY_Hist2D(clusters_all, vmin=1, vmax=0.5e2, figTitle=None, imageFileName=imageFileName, use_z_cut=True)"
   ]
  },
  {
   "cell_type": "code",
   "execution_count": null,
   "id": "990abb88-9d7f-4176-a24f-d942f1ad015f",
   "metadata": {
    "tags": []
   },
   "outputs": [],
   "source": [
    "# module 1\n",
    "importlib.reload(plotting)\n",
    "from tqdm import tqdm\n",
    "folder = '/global/cfs/cdirs/dune/users/sfogarty/Module1_reco/39Ar_reco_09132023/'\n",
    "files = ['charge-light-matched-clusters_2022_02_08_01_47_59_CET.h5', \\\n",
    "        'charge-light-matched-clusters_2022_02_08_02_08_00_CET.h5', \\\n",
    "        'charge-light-matched-clusters_2022_02_08_02_28_01_CET.h5', \\\n",
    "        'charge-light-matched-clusters_2022_02_08_03_54_19_CET.h5', \\\n",
    "        'charge-light-matched-clusters_2022_02_08_04_14_21_CET.h5', \\\n",
    "        'charge-light-matched-clusters_2022_02_08_04_34_22_CET.h5', \\\n",
    "        'charge-light-matched-clusters_2022_02_08_04_54_23_CET.h5', \\\n",
    "        'charge-light-matched-clusters_2022_02_08_05_14_25_CET.h5', \\\n",
    "        'charge-light-matched-clusters_2022_02_08_05_14_25_CET.h5', \\\n",
    "        'charge-light-matched-clusters_2022_02_08_09_14_33_CET.h5', \\\n",
    "        'charge-light-matched-clusters_2022_02_08_09_34_35_CET.h5', \\\n",
    "        'charge-light-matched-clusters_2022_02_08_12_48_18_CET.h5', \\\n",
    "        'charge-light-matched-clusters_2022_02_08_13_08_19_CET.h5', \\\n",
    "        'charge-light-matched-clusters_2022_02_08_13_57_39_CET.h5', \\\n",
    "        'charge-light-matched-clusters_2022_02_08_14_17_41_CET.h5']\n",
    "\n",
    "shape = 'rect'\n",
    "d = 100\n",
    "ellipse_b = 150\n",
    "use_proximity_cut = True\n",
    "light_matches = []\n",
    "tolerance = 25\n",
    "\n",
    "special_cases = {'zy': (310, -310, 'left'), 'xy': (310,-310, 'right')}\n",
    "for i,file in enumerate(tqdm(files)):\n",
    "    f = h5py.File(folder+file, 'r')\n",
    "    if use_proximity_cut:\n",
    "        clusters, light_matches_dict = plotting.apply_proximity_cut(f, shape, d, ellipse_b, tolerance, special_cases)\n",
    "        light_matches.append(light_matches_dict)\n",
    "    else:\n",
    "        clusters = np.array(f['clusters'])[(f['clusters']['light_trig_index'] != -1).sum(axis=1) == 1]  \n",
    "        #clusters = np.array(f['clusters'])\n",
    "    if i == 0:\n",
    "        clusters_all = np.array(clusters)\n",
    "        light_hits_summed = f['light_hits_summed']\n",
    "    else:\n",
    "        clusters_all = np.concatenate((clusters_all, clusters))\n",
    "    "
   ]
  },
  {
   "cell_type": "code",
   "execution_count": null,
   "id": "39e17d53-ea32-40ec-88ae-b047278dd902",
   "metadata": {},
   "outputs": [],
   "source": [
    "importlib.reload(plotting)\n",
    "filename = 'module1_data_withcuts_March102024.npz'\n",
    "plotting.saveNPZ(filename, light_matches, files)"
   ]
  },
  {
   "cell_type": "code",
   "execution_count": null,
   "id": "6011f6d1-7b06-4bb5-a1d2-ca94fca2f60b",
   "metadata": {
    "tags": []
   },
   "outputs": [],
   "source": [
    "importlib.reload(plotting)\n",
    "if use_proximity_cut:\n",
    "    text = 'With'\n",
    "else:\n",
    "    text = 'No'\n",
    "imageFileName=f'39Ar_plots_Mar2024/Revision_1/Module1_Zreco_MatchingPurity_{text}OptProxCut.pdf'\n",
    "#imageFileName = None\n",
    "time_per_file = 20*60\n",
    "total_time = len(files)*time_per_file\n",
    "plotting.matching_purity(clusters_all, total_time, q_bins=6, q_range=[0, 200], plot_vlines=True, plot_log_scale=True, plot_legend=True, figTitle=None, imageFileName=imageFileName, ylim=[1, 2e4])"
   ]
  },
  {
   "cell_type": "code",
   "execution_count": null,
   "id": "0e5ee9d7-f189-4f59-b128-93312b0a5658",
   "metadata": {
    "tags": []
   },
   "outputs": [],
   "source": [
    "importlib.reload(plotting)\n",
    "if use_proximity_cut:\n",
    "    text = 'With'\n",
    "else:\n",
    "    text = 'No'\n",
    "imageFileName=f'39Ar_plots_Mar2024/Revision_1/module1_xy_t0tagged_{text}OptProxCut.pdf'\n",
    "#imageFileName = None\n",
    "plotting.XY_Hist2D(clusters_all, vmin=1, vmax=1.2e2, use_z_cut=True, figTitle=None, imageFileName=imageFileName)"
   ]
  },
  {
   "cell_type": "code",
   "execution_count": null,
   "id": "270eea6f-8839-4385-a096-a7712f071025",
   "metadata": {
    "tags": []
   },
   "outputs": [],
   "source": [
    "importlib.reload(plotting)\n",
    "if use_proximity_cut:\n",
    "    text = 'With'\n",
    "else:\n",
    "    text = 'No'\n",
    "imageFileName=f'39Ar_plots_Mar2024/Revision_1/module1_XZ_{text}OptProxCut.pdf'\n",
    "#imageFileName=None\n",
    "plotting.XZ_Hist2D(clusters_all, vmin=1, vmax=1e2, figTitle=None, imageFileName=imageFileName)"
   ]
  },
  {
   "cell_type": "code",
   "execution_count": null,
   "id": "08f30e03-40e9-4339-a346-0c8459ae508e",
   "metadata": {
    "tags": []
   },
   "outputs": [],
   "source": [
    "importlib.reload(plotting)\n",
    "if use_proximity_cut:\n",
    "    text = 'With'\n",
    "else:\n",
    "    text = 'No'\n",
    "imageFileName=f'39Ar_plots_Mar2024/Revision_1/Module1_ZY_{text}OptProxCut.pdf'\n",
    "#imageFileName=None\n",
    "plotting.ZY_Hist2D(clusters_all, vmin=1, vmax=0.2e2, figTitle=None, imageFileName=imageFileName, use_z_cut=True)"
   ]
  },
  {
   "cell_type": "code",
   "execution_count": null,
   "id": "2d30cab1-7253-46e1-ab4e-4ca2b046a59d",
   "metadata": {
    "tags": []
   },
   "outputs": [],
   "source": [
    "from tqdm import tqdm\n",
    "importlib.reload(plotting)\n",
    "#module-2\n",
    "folder = '/global/cfs/cdirs/dune/users/sfogarty/Module2_reco/39Ar_reco/'\n",
    "#files = ['charge-light-matched-clusters_2022_12_03_13_42_CET.h5', \\\n",
    "#        'charge-light-matched-clusters_2022_12_03_13_52_CET.h5']\n",
    "\n",
    "#files = ['charge-light-matched-clusters_2022_11_30_05_17_CET.h5']\n",
    "files = ['charge-light-matched-clusters_2022_12_02_14_00_CET.h5', \\\n",
    "        'charge-light-matched-clusters_2022_12_02_14_10_CET.h5', \\\n",
    "        'charge-light-matched-clusters_2022_12_02_14_30_CET.h5', \\\n",
    "        'charge-light-matched-clusters_2022_12_02_14_40_CET.h5', \\\n",
    "        'charge-light-matched-clusters_2022_12_02_14_50_CET.h5', \\\n",
    "        'charge-light-matched-clusters_2022_12_02_15_00_CET.h5', \\\n",
    "        'charge-light-matched-clusters_2022_12_02_15_10_CET.h5', \\\n",
    "        'charge-light-matched-clusters_2022_12_02_15_20_CET.h5', \\\n",
    "        'charge-light-matched-clusters_2022_12_02_15_30_CET.h5', \\\n",
    "        'charge-light-matched-clusters_2022_12_02_15_50_CET.h5']\n",
    "\n",
    "shape = 'rect'\n",
    "d = 150\n",
    "ellipse_b = 150\n",
    "use_proximity_cut = True\n",
    "light_hits_summed = 0\n",
    "\n",
    "light_matches = []\n",
    "tolerance = 20\n",
    "for i,file in enumerate(tqdm(files)):\n",
    "    f = h5py.File(folder+file, 'r')\n",
    "    if use_proximity_cut:\n",
    "        clusters, light_matches_dict = plotting.apply_proximity_cut(f, shape, d, ellipse_b, tolerance)\n",
    "        light_matches.append(light_matches_dict)\n",
    "    else:\n",
    "        clusters = np.array(f['clusters'])[(f['clusters']['light_trig_index'] != -1).sum(axis=1) == 1]  \n",
    "        #clusters = np.array(f['clusters'])\n",
    "    if i == 0:\n",
    "        clusters_all = np.array(clusters)\n",
    "        light_hits_summed = f['light_hits_summed']\n",
    "    else:\n",
    "        clusters_all = np.concatenate((clusters_all, clusters))\n",
    "    "
   ]
  },
  {
   "cell_type": "code",
   "execution_count": null,
   "id": "528fb0c2-df4d-4300-84c1-9c22e99f2179",
   "metadata": {
    "tags": []
   },
   "outputs": [],
   "source": [
    "importlib.reload(plotting)\n",
    "filename = 'module2_data_withcuts_March102024.npz'\n",
    "plotting.saveNPZ(filename, light_matches, files)"
   ]
  },
  {
   "cell_type": "code",
   "execution_count": null,
   "id": "e7432038-82bd-4df5-a220-42d9753a9469",
   "metadata": {
    "tags": []
   },
   "outputs": [],
   "source": [
    "x_vals = light_matches[0]['x']\n",
    "io_vals = light_matches[0]['io_group']\n",
    "\n",
    "plt.hist(np.abs(light_matches[0]['x']), bins= 25, weights=light_matches[0]['amplitudes'])"
   ]
  },
  {
   "cell_type": "code",
   "execution_count": null,
   "id": "fbee40ec-f893-475c-83cb-9c470728ef46",
   "metadata": {
    "tags": []
   },
   "outputs": [],
   "source": [
    "importlib.reload(plotting)\n",
    "if use_proximity_cut:\n",
    "    text = 'With'\n",
    "else:\n",
    "    text = 'No'\n",
    "imageFileName=f'39Ar_plots_Mar2024/Revision_1/Module2_MatchingPurity_{text}OptProxCut.pdf'\n",
    "imageFileName=None\n",
    "time_per_file = 10*60\n",
    "total_time = len(files)*time_per_file\n",
    "plotting.matching_purity(clusters_all, total_time, q_bins=6, q_range=[0, 200], plot_vlines=True, plot_log_scale=True, plot_legend=True, figTitle=None, imageFileName=imageFileName, ylim=[1, 1e5])"
   ]
  },
  {
   "cell_type": "code",
   "execution_count": null,
   "id": "e4a3116c-1655-473f-bf1c-d4bec1fbf86b",
   "metadata": {
    "tags": []
   },
   "outputs": [],
   "source": [
    "importlib.reload(plotting)\n",
    "if use_proximity_cut:\n",
    "    text = 'With'\n",
    "else:\n",
    "    text = 'No'\n",
    "imageFileName=f'39Ar_plots_Mar2024/Revision_1/Module2_XY_{text}OptProxCut.pdf'\n",
    "imageFileName=None\n",
    "bins=[163, 2*163]\n",
    "plotting.XY_Hist2D(clusters_all, vmin=1, vmax=1.2e2, use_z_cut=True, figTitle=None, imageFileName=imageFileName, bins=bins)"
   ]
  },
  {
   "cell_type": "code",
   "execution_count": null,
   "id": "b8fe748d-5c3f-4bc0-8a54-4c7906bea5ab",
   "metadata": {
    "tags": []
   },
   "outputs": [],
   "source": [
    "importlib.reload(plotting)\n",
    "if use_proximity_cut:\n",
    "    text = 'With'\n",
    "else:\n",
    "    text = 'No'\n",
    "imageFileName=f'39Ar_plots_Mar2024/Revision_1/Module2_ZY_{text}OptProxCut.pdf'\n",
    "#imageFileName = None\n",
    "bins = [163, 2*163]\n",
    "plotting.ZY_Hist2D(clusters_all, vmin=1, vmax=0.8e2, figTitle=None, imageFileName=imageFileName, bins=bins)"
   ]
  },
  {
   "cell_type": "code",
   "execution_count": null,
   "id": "53368af5-bf8a-4fb8-b03e-711d3449c139",
   "metadata": {
    "tags": []
   },
   "outputs": [],
   "source": [
    "importlib.reload(plotting)\n",
    "rows = {0: (310, 600), 1: (0, 310), 2: (-310, 0), 3: (-600, -310)}\n",
    "row = 1\n",
    "row_mask = (clusters_all['y_mid'] > rows[row][0]) & (clusters_all['y_mid'] < rows[row][1])\n",
    "\n",
    "if use_proximity_cut:\n",
    "    text = 'With'\n",
    "else:\n",
    "    text = 'No'\n",
    "imageFileName=f'39Ar_plots_Mar2024/Revision_1/Module2_XZ_{text}OptProxCut.pdf'\n",
    "#imageFileName=None\n",
    "bins = 163\n",
    "plotting.XZ_Hist2D(clusters_all, vmin=1, vmax=3e2, figTitle=None, imageFileName=imageFileName, bins=bins)"
   ]
  },
  {
   "cell_type": "code",
   "execution_count": null,
   "id": "a1144536-6b00-41ad-adfd-eeb671b135b9",
   "metadata": {},
   "outputs": [],
   "source": []
  },
  {
   "cell_type": "code",
   "execution_count": null,
   "id": "cea6c9c9-ba89-4d74-8aa8-7aee226c8b05",
   "metadata": {
    "tags": []
   },
   "outputs": [],
   "source": [
    "from tqdm import tqdm\n",
    "#module-2 3000 threshold\n",
    "folder = '/global/cfs/cdirs/dune/users/sfogarty/Module2_reco/39Ar_reco/'\n",
    "#files = ['charge-light-matched-clusters_2022_12_03_13_42_CET.h5', \\\n",
    "#        'charge-light-matched-clusters_2022_12_03_13_52_CET.h5']\n",
    "\n",
    "files = ['charge-light-matched-clusters_2022_11_30_04_57_CET.h5', \\\n",
    "        'charge-light-matched-clusters_2022_11_30_05_17_CET.h5', \\\n",
    "        'charge-light-matched-clusters_2022_11_30_05_37_CET.h5', \\\n",
    "        'charge-light-matched-clusters_2022_11_30_05_57_CET.h5', \\\n",
    "        'charge-light-matched-clusters_2022_11_30_06_37_CET.h5']\n",
    "\n",
    "shape = 'rect'\n",
    "d = 75\n",
    "ellipse_b = 150\n",
    "use_proximity_cut = False\n",
    "for i,file in enumerate(tqdm(files)):\n",
    "    f = h5py.File(folder+file, 'r')\n",
    "    if use_proximity_cut:\n",
    "        clusters = plotting.apply_proximity_cut(f, shape, d, ellipse_b)\n",
    "    else:\n",
    "        clusters = np.array(f['clusters'])[(f['clusters']['light_trig_index'] != -1).sum(axis=1) == 1]  \n",
    "    if i == 0:\n",
    "        clusters_all = np.array(clusters)\n",
    "    else:\n",
    "        clusters_all = np.concatenate((clusters_all, clusters))"
   ]
  },
  {
   "cell_type": "code",
   "execution_count": null,
   "id": "a630ac1a-2432-4b09-ba91-f2184485cff1",
   "metadata": {
    "tags": []
   },
   "outputs": [],
   "source": [
    "f = h5py.File('/global/cfs/cdirs/dune/users/sfogarty/Module2_reco/39Ar_reco/charge-light-matched-clusters_2022_11_30_04_57_CET.h5', 'r')\n",
    "np.unique(f['light_hits_summed']['det_type'], return_counts=True)"
   ]
  },
  {
   "cell_type": "code",
   "execution_count": null,
   "id": "b0cc0b2f-b36f-4bad-a15c-0a60fc894221",
   "metadata": {
    "tags": []
   },
   "outputs": [],
   "source": [
    "np.unique(f['light_hits_summed'][f['light_hits_summed']['det_type'] == b'LCM']['rowID'])"
   ]
  },
  {
   "cell_type": "code",
   "execution_count": null,
   "id": "64343c3e-548e-4f9d-81c8-c636010002e7",
   "metadata": {
    "tags": []
   },
   "outputs": [],
   "source": [
    "importlib.reload(plotting)\n",
    "plotting.matching_purity(clusters_all, q_bins=1, q_range=[0, 100], plot_vlines=False, plot_log_scale=False, plot_legend=True, figTitle='Module-2 T0 Tagged Low Energy Clusters \\n (With Optical Proximity Cut)', saveFig=False, fileName='Module0_Zreco_MatchingPurity_withOptProxCut_widerWindow.pdf')"
   ]
  },
  {
   "cell_type": "code",
   "execution_count": null,
   "id": "8df63d56-f780-4a6f-9791-1de4f1ced8e2",
   "metadata": {
    "tags": []
   },
   "outputs": [],
   "source": [
    "importlib.reload(plotting)\n",
    "plotting.XY_Hist2D(clusters_all, vmin=1, vmax=1.2e2, use_z_cut=True, figTitle='Module-2 T0 Tagged Low Energy Clusters \\n (With Optical Proximity Cut)')#, saveFig=False, fileName='module1_xy_t0tagged_withProxCut.pdf')"
   ]
  },
  {
   "cell_type": "code",
   "execution_count": null,
   "id": "ba6f6802-64b3-4a67-bb19-ea369a42225d",
   "metadata": {
    "tags": []
   },
   "outputs": [],
   "source": [
    "importlib.reload(plotting)\n",
    "plotting.XZ_Hist2D(clusters_all, vmin=2, vmax=2e2, figTitle='Module-2 T0 Tagged Low Energy Clusters \\n (With Optical Proximity Cut)'),# saveFig=False, fileName='Module1_Xreco_Zreco_withOptProxCut.pdf')"
   ]
  },
  {
   "cell_type": "code",
   "execution_count": null,
   "id": "1aad2dd1-56f7-4f4b-9ce5-9a717923d834",
   "metadata": {},
   "outputs": [],
   "source": [
    "from tqdm import tqdm\n",
    "#module-3\n",
    "importlib.reload(plotting)\n",
    "folder = '/global/cfs/cdirs/dune/users/sfogarty/Module3_reco/39Ar_reco/'\n",
    "#files = ['charge-light-matched-clusters_2022_12_03_13_42_CET.h5', \\\n",
    "#        'charge-light-matched-clusters_2022_12_03_13_52_CET.h5']\n",
    "\n",
    "files = ['charge-light-matched-clusters_2023_03_14_09_34_CET.h5', \\\n",
    "        'charge-light-matched-clusters_2023_03_14_09_54_CET.h5', \\\n",
    "        'charge-light-matched-clusters_2023_03_14_10_04_CET.h5', \\\n",
    "        'charge-light-matched-clusters_2023_03_14_10_14_CET.h5', \\\n",
    "        'charge-light-matched-clusters_2023_03_14_10_24_CET.h5', \\\n",
    "        'charge-light-matched-clusters_2023_03_14_10_34_CET.h5', \\\n",
    "        'charge-light-matched-clusters_2023_03_14_10_44_CET.h5', \\\n",
    "        'charge-light-matched-clusters_2023_03_14_10_54_CET.h5', \\\n",
    "        'charge-light-matched-clusters_2023_03_14_11_04_CET.h5', \\\n",
    "        'charge-light-matched-clusters_2023_03_14_11_15_CET.h5', \\\n",
    "        'charge-light-matched-clusters_2023_03_14_11_25_CET.h5', \\\n",
    "        'charge-light-matched-clusters_2023_03_14_11_35_CET.h5', \\\n",
    "        'charge-light-matched-clusters_2023_03_14_11_45_CET.h5', \\\n",
    "        'charge-light-matched-clusters_2023_03_14_11_55_CET.h5', \\\n",
    "        'charge-light-matched-clusters_2023_03_14_12_05_CET.h5', \\\n",
    "        'charge-light-matched-clusters_2023_03_14_12_15_CET.h5', \\\n",
    "        'charge-light-matched-clusters_2023_03_14_12_25_CET.h5', \\\n",
    "        'charge-light-matched-clusters_2023_03_14_12_35_CET.h5', \\\n",
    "        'charge-light-matched-clusters_2023_03_14_12_45_CET.h5', \\\n",
    "        'charge-light-matched-clusters_2023_03_14_12_55_CET.h5', \\\n",
    "        'charge-light-matched-clusters_2023_03_14_13_05_CET.h5', \\\n",
    "        'charge-light-matched-clusters_2023_03_14_13_15_CET.h5', \\\n",
    "        'charge-light-matched-clusters_2023_03_14_13_25_CET.h5', \\\n",
    "        'charge-light-matched-clusters_2023_03_14_13_35_CET.h5', \\\n",
    "        'charge-light-matched-clusters_2023_03_14_13_45_CET.h5', \\\n",
    "        'charge-light-matched-clusters_2023_03_14_13_55_CET.h5']\n",
    "\n",
    "#files = ['charge-light-matched-clusters_2023_03_14_09_34_CET.h5']\n",
    "shape = 'rect'\n",
    "d = 100\n",
    "ellipse_b = 150\n",
    "use_proximity_cut = True\n",
    "tolerance = 25\n",
    "light_matches = []\n",
    "for i,file in enumerate(tqdm(files)):\n",
    "    f = h5py.File(folder+file, 'r')\n",
    "    if use_proximity_cut:\n",
    "        clusters, light_matches_dict = plotting.apply_cuts(f, shape, d, ellipse_b, tolerance)\n",
    "        light_matches.append(light_matches_dict)\n",
    "    else:\n",
    "        clusters = np.array(f['clusters'])[(f['clusters']['light_trig_index'] != -1).sum(axis=1) == 1]  \n",
    "    if i == 0:\n",
    "        #print(clusters)\n",
    "        clusters_all = np.array(clusters)\n",
    "    else:\n",
    "        clusters_all = np.concatenate((clusters_all, clusters))"
   ]
  },
  {
   "cell_type": "code",
   "execution_count": null,
   "id": "a99bc4d0-cef3-46a2-99b9-5e42570f9fa5",
   "metadata": {},
   "outputs": [],
   "source": [
    "importlib.reload(plotting)\n",
    "filename = 'module3_data_withcuts_March102024.npz'\n",
    "plotting.saveNPZ(filename, light_matches, files)"
   ]
  },
  {
   "cell_type": "code",
   "execution_count": null,
   "id": "686e9ed6-bc47-4c21-9e93-f766a8f7dee7",
   "metadata": {
    "tags": []
   },
   "outputs": [],
   "source": [
    "importlib.reload(plotting)\n",
    "\n",
    "if use_proximity_cut:\n",
    "    text = 'With'\n",
    "else:\n",
    "    text = 'No'\n",
    "imageFileName=f'39Ar_plots_Mar2024/Revision_1/Module3_MatchingPurity_{text}OptProxCut.pdf'\n",
    "#imageFileName = None\n",
    "time_per_file = 10*60\n",
    "total_time = len(files)*time_per_file\n",
    "plotting.matching_purity(clusters_all, total_time, q_bins=6, q_range=[0, 200], plot_vlines=True, plot_log_scale=True, plot_legend=True, figTitle=None, imageFileName=imageFileName, ylim=(1, 0.5e5))"
   ]
  },
  {
   "cell_type": "code",
   "execution_count": null,
   "id": "069d4c97-d1e4-403a-8706-e9df2332336e",
   "metadata": {
    "tags": []
   },
   "outputs": [],
   "source": [
    "importlib.reload(plotting)\n",
    "if use_proximity_cut:\n",
    "    text = 'With'\n",
    "else:\n",
    "    text = 'No'\n",
    "imageFileName=f'39Ar_plots_Mar2024/Revision_1/Module3_XY_{text}OptProxCut.pdf'\n",
    "#imageFileName=None\n",
    "plotting.XY_Hist2D(clusters_all, vmin=1, vmax=1.0e2, use_z_cut=True, figTitle=None, imageFileName=imageFileName)"
   ]
  },
  {
   "cell_type": "code",
   "execution_count": null,
   "id": "b12e7948-72f2-4179-945f-ba2e2b2e0544",
   "metadata": {
    "tags": []
   },
   "outputs": [],
   "source": [
    "importlib.reload(plotting)\n",
    "if use_proximity_cut:\n",
    "    text = 'With'\n",
    "else:\n",
    "    text = 'No'\n",
    "imageFileName=f'39Ar_plots_Mar2024/Revision_1/Module3_XZ_{text}OptProxCut.pdf'\n",
    "#imageFileName=None\n",
    "plotting.XZ_Hist2D(clusters_all, vmin=1, vmax=1.5e2, figTitle=None, imageFileName=imageFileName)"
   ]
  },
  {
   "cell_type": "code",
   "execution_count": null,
   "id": "c449f4a8-d39d-4e28-9537-95d127acc101",
   "metadata": {
    "tags": []
   },
   "outputs": [],
   "source": [
    "importlib.reload(plotting)\n",
    "if use_proximity_cut:\n",
    "    text = 'With'\n",
    "else:\n",
    "    text = 'No'\n",
    "imageFileName=f'39Ar_plots_Mar2024/Revision_1/Module3_ZY_{text}OptProxCut.pdf'\n",
    "plotting.ZY_Hist2D(clusters_all, vmin=1, vmax=0.5e2, figTitle=None, imageFileName=imageFileName)"
   ]
  },
  {
   "cell_type": "code",
   "execution_count": null,
   "id": "7526d4b5-b496-4b17-901f-edb7a9b5e2ed",
   "metadata": {},
   "outputs": [],
   "source": []
  },
  {
   "cell_type": "code",
   "execution_count": null,
   "id": "7c7a8c25-a8e9-4db7-9a36-1e9bee606a05",
   "metadata": {},
   "outputs": [],
   "source": []
  },
  {
   "cell_type": "code",
   "execution_count": null,
   "id": "1e46d24b-2b8b-42ec-9ef8-c3757b95a496",
   "metadata": {
    "tags": []
   },
   "outputs": [],
   "source": [
    "clusters_all_mask = np.zeros(len(clusters_all), dtype=bool)\n",
    "light_hits_mask = np.zeros(len(light_hits_summed), dtype=bool)\n",
    "clusters_cut = np.zeros_like((0,), dtype=clusters_all.dtype)\n",
    "for i, light_hit in enumerate(tqdm(light_hits_summed)):\n",
    "#for i in tqdm(range(1000)):\n",
    "    light_hit = light_hits_summed[i]\n",
    "    #print(light_hit['unix'])\n",
    "    #print(clusters_all[clusters_all['light_trig_index'][:,0] == light_hit['light_trig_index']]['unix'])\n",
    "    #print(light_hit['tai_ns'] - clusters_all[clusters_all['light_trig_index'][:,0] == light_hit['light_trig_index']]['t0'])\n",
    "    temporal_mask = (clusters_all['t_mid'] > light_hit['tai_ns'] - 10000) & (clusters_all['t_mid'] < light_hit['tai_ns'] + 225000)& (clusters_all['unix'].astype('int') == int(light_hit['unix']))\n",
    "    if sum(temporal_mask) > 0 and light_hit['rowID'] == 0 and False:\n",
    "        print('unix:')\n",
    "        print('cluster unix: ', clusters_all[temporal_mask]['unix'])\n",
    "        print('light unix: ', light_hit['unix'])\n",
    "        #print(' ')\n",
    "        print('ns:')\n",
    "        print('cluster ns:',clusters_all[temporal_mask]['t_mid'])\n",
    "        print('light ns:', light_hit['tai_ns'])\n",
    "        print(' ')\n",
    "    c = clusters_all\n",
    "    Dx = 75\n",
    "    Dy = 155\n",
    "    if light_hit['tile_x'] < 0:\n",
    "        mask = (c['x_mid'] < light_hit['tile_x'] + Dx) & (c['y_mid'] < light_hit['tile_y'] + Dy) & (c['y_mid'] > light_hit['tile_y'] - Dy) & (c['io_group'] == light_hit['io_group'])\n",
    "        clusters_all_mask += mask & temporal_mask\n",
    "    else:\n",
    "        mask = (c['x_mid'] > light_hit['tile_x'] - Dx) & (c['y_mid'] < light_hit['tile_y'] + Dy) & (c['y_mid'] > light_hit['tile_y'] - Dy) & (c['io_group'] == light_hit['io_group'])\n",
    "        clusters_all_mask += mask & temporal_mask\n",
    "    #if np.sum(mask) > 0:\n",
    "    #    clusters_cut = np.concatenate((clusters_cut, c[mask]))\n",
    "    #print(f\"clusters: io {c['io_group']}, x {c['x_mid']}, y {c['y_mid']}\")\n",
    "    #print(f\"light: io {light_hit['io_group']}, x {light_hit['tile_x']}, y {light_hit['tile_y']}\")\n",
    "    #print(' ')\n",
    "    #clusters_all_mask += mask\n",
    "    #if np.sum(mask) > 0:\n",
    "    #    light_hits_mask[i] = True\n",
    "clusters_cut = clusters_all[clusters_all_mask]"
   ]
  },
  {
   "cell_type": "code",
   "execution_count": null,
   "id": "16735b80-177b-4200-9816-7917875ceaae",
   "metadata": {},
   "outputs": [],
   "source": [
    "#indices = np.unique(light_hits_summed['light_trig_index'])\n",
    "indices = np.unique(clusters_all['light_trig_index'])\n",
    "index = 10\n",
    "light_hits = light_hits_summed[light_hits_summed['light_trig_index'] == indices[index]]\n",
    "clusters_event = clusters_all[clusters_all['light_trig_index'][:,0] == indices[index]]\n",
    "\n",
    "fig, axes = plt.subplots(nrows=1, ncols=2, sharex=False, sharey=False, figsize=(7,6))\n",
    "axes[0].set_xlim(-310,310)\n",
    "axes[1].set_xlim(-310,310)\n",
    "axes[0].set_ylim(-620,620)\n",
    "axes[1].set_ylim(-620,620)\n",
    "axes[0].vlines(0, ymin=-620, ymax=620, linestyle='--')\n",
    "axes[1].vlines(0, ymin=-620, ymax=620, linestyle='--')\n",
    "axes[0].hlines(0, xmin=-310, xmax=310, linestyle='--')\n",
    "axes[1].hlines(0, xmin=-310, xmax=310, linestyle='--')\n",
    "axes[0].hlines(310, xmin=-310, xmax=310, linestyle='--')\n",
    "axes[0].hlines(-310, xmin=-310, xmax=310, linestyle='--')\n",
    "axes[1].hlines(310, xmin=-310, xmax=310, linestyle='--')\n",
    "axes[1].hlines(-310, xmin=-310, xmax=310, linestyle='--')\n",
    "\n",
    "clusters_io1 = clusters_event[clusters_event['io_group'] == 1]\n",
    "clusters_io2 = clusters_event[clusters_event['io_group'] == 2]\n",
    "\n",
    "axes[0].plot(clusters_io1['x_mid'], clusters_io1['y_mid'], 'bo')\n",
    "axes[1].plot(clusters_io2['x_mid'], clusters_io2['y_mid'], 'bo')\n",
    "\n",
    "for hit in light_hits:\n",
    "    if hit['io_group'] == 1:\n",
    "        axes[0].vlines(hit['tile_x'], ymin=hit['tile_y']-155, ymax=hit['tile_y']+155, color='r',linewidth=5)\n",
    "    else:\n",
    "        axes[1].vlines(hit['tile_x'], ymin=hit['tile_y']-155, ymax=hit['tile_y']+155, color='r', linewidth=5)"
   ]
  }
 ],
 "metadata": {
  "kernelspec": {
   "display_name": "ndlar_flow",
   "language": "python",
   "name": "ndlar_flow"
  },
  "language_info": {
   "codemirror_mode": {
    "name": "ipython",
    "version": 3
   },
   "file_extension": ".py",
   "mimetype": "text/x-python",
   "name": "python",
   "nbconvert_exporter": "python",
   "pygments_lexer": "ipython3",
   "version": "3.11.5"
  }
 },
 "nbformat": 4,
 "nbformat_minor": 5
}
