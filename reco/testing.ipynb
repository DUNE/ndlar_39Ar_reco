{
 "cells": [
  {
   "cell_type": "code",
   "execution_count": 1,
   "id": "2d333484",
   "metadata": {},
   "outputs": [],
   "source": [
    "import numpy as np\n",
    "import h5py\n",
    "import matplotlib.pyplot as plt\n",
    "from adc64format import dtypes, ADC64Reader"
   ]
  },
  {
   "cell_type": "code",
   "execution_count": null,
   "id": "6a05b397",
   "metadata": {},
   "outputs": [],
   "source": []
  },
  {
   "cell_type": "code",
   "execution_count": null,
   "id": "49bf259b",
   "metadata": {},
   "outputs": [],
   "source": []
  },
  {
   "cell_type": "code",
   "execution_count": 2,
   "id": "9fe1f897",
   "metadata": {},
   "outputs": [],
   "source": [
    "filename = '/sdf/group/neutrino/sfogarty/module0_files/charge_data/datalog_2021_04_04_00_41_40_CEST.h5'\n",
    "#filename = '/sdf/group/neutrino/sfogarty/module0_files/charge_data/datalog_2021_04_04_00_41_40_CEST_events_3.h5'\n",
    "file = h5py.File(filename)"
   ]
  },
  {
   "cell_type": "code",
   "execution_count": 9,
   "id": "ff08c37f",
   "metadata": {},
   "outputs": [
    {
     "data": {
      "text/plain": [
       "array([       0,        1,        2, ..., 32918535, 32918536, 32918537])"
      ]
     },
     "execution_count": 9,
     "metadata": {},
     "output_type": "execute_result"
    }
   ],
   "source": [
    "np.arange(len(file['packets']))"
   ]
  },
  {
   "cell_type": "code",
   "execution_count": 10,
   "id": "deab55a3",
   "metadata": {},
   "outputs": [
    {
     "data": {
      "text/plain": [
       "<HDF5 dataset \"packets\": shape (32918538,), type \"|V36\">"
      ]
     },
     "execution_count": 10,
     "metadata": {},
     "output_type": "execute_result"
    }
   ],
   "source": [
    "file['packets']"
   ]
  },
  {
   "cell_type": "code",
   "execution_count": 7,
   "id": "51895cfa",
   "metadata": {},
   "outputs": [
    {
     "data": {
      "text/plain": [
       "(2, 0, 0, 4, 0, 0, 0, 0, 1617489694, 0, 0, 0, 0, 0, 0, 0, 0, 0, 0, 0, 0, 0)"
      ]
     },
     "execution_count": 7,
     "metadata": {},
     "output_type": "execute_result"
    }
   ],
   "source": [
    "file['packets'][2]"
   ]
  },
  {
   "cell_type": "code",
   "execution_count": 11,
   "id": "8caf9bea",
   "metadata": {},
   "outputs": [
    {
     "data": {
      "text/plain": [
       "dtype([('io_group', 'u1'), ('io_channel', 'u1'), ('chip_id', 'u1'), ('packet_type', 'u1'), ('downstream_marker', 'u1'), ('parity', 'u1'), ('valid_parity', 'u1'), ('channel_id', 'u1'), ('timestamp', '<u8'), ('dataword', 'u1'), ('trigger_type', 'u1'), ('local_fifo', 'u1'), ('shared_fifo', 'u1'), ('register_address', 'u1'), ('register_data', 'u1'), ('direction', 'u1'), ('local_fifo_events', 'u1'), ('shared_fifo_events', '<u2'), ('counter', '<u4'), ('fifo_diagnostics_enabled', 'u1'), ('first_packet', 'u1'), ('receipt_timestamp', '<u4')])"
      ]
     },
     "execution_count": 11,
     "metadata": {},
     "output_type": "execute_result"
    }
   ],
   "source": [
    "file['packets'].dtype"
   ]
  },
  {
   "cell_type": "code",
   "execution_count": 13,
   "id": "a30df99e",
   "metadata": {},
   "outputs": [],
   "source": [
    "packets = file['packets']\n",
    "new_dtype = np.dtype([('io_group', 'u1'), ('io_channel', 'u1'), ('chip_id', 'u1'), ('packet_type', 'u1'), ('downstream_marker', 'u1'), ('parity', 'u1'), ('valid_parity', 'u1'), ('channel_id', 'u1'), ('timestamp', '<u8'), ('dataword', 'u1'), ('trigger_type', 'u1'), ('local_fifo', 'u1'), ('shared_fifo', 'u1'), ('register_address', 'u1'), ('register_data', 'u1'), ('direction', 'u1'), ('local_fifo_events', 'u1'), ('shared_fifo_events', '<u2'), ('counter', '<u4'), ('fifo_diagnostics_enabled', 'u1'), ('first_packet', 'u1'), ('receipt_timestamp', '<u4'), ('index', 'u8')])\n",
    "new_packets = packets.astype(new_dtype)\n"
   ]
  },
  {
   "cell_type": "code",
   "execution_count": 19,
   "id": "713f4b3f",
   "metadata": {},
   "outputs": [
    {
     "ename": "TypeError",
     "evalue": "'AstypeWrapper' object does not support item assignment",
     "output_type": "error",
     "traceback": [
      "\u001b[0;31m---------------------------------------------------------------------------\u001b[0m",
      "\u001b[0;31mTypeError\u001b[0m                                 Traceback (most recent call last)",
      "\u001b[0;32m/tmp/ipykernel_6214/161746803.py\u001b[0m in \u001b[0;36m<module>\u001b[0;34m\u001b[0m\n\u001b[0;32m----> 1\u001b[0;31m \u001b[0mnew_packets\u001b[0m\u001b[0;34m[\u001b[0m\u001b[0;34m'index'\u001b[0m\u001b[0;34m]\u001b[0m \u001b[0;34m=\u001b[0m \u001b[0mnp\u001b[0m\u001b[0;34m.\u001b[0m\u001b[0marange\u001b[0m\u001b[0;34m(\u001b[0m\u001b[0;36m0\u001b[0m\u001b[0;34m,\u001b[0m \u001b[0mlen\u001b[0m\u001b[0;34m(\u001b[0m\u001b[0mpackets\u001b[0m\u001b[0;34m)\u001b[0m\u001b[0;34m,\u001b[0m \u001b[0;36m1\u001b[0m\u001b[0;34m)\u001b[0m\u001b[0;34m\u001b[0m\u001b[0;34m\u001b[0m\u001b[0m\n\u001b[0m",
      "\u001b[0;31mTypeError\u001b[0m: 'AstypeWrapper' object does not support item assignment"
     ]
    }
   ],
   "source": [
    "new_packets['index'] = np.arange(0, len(packets), 1)"
   ]
  },
  {
   "cell_type": "code",
   "execution_count": 31,
   "id": "8cac8c00",
   "metadata": {
    "scrolled": true
   },
   "outputs": [
    {
     "name": "stdout",
     "output_type": "stream",
     "text": [
      "[0 2 2 2 2 2 2 2 2 2 2 2 2 2 2 2 2 2 2 4]\n"
     ]
    },
    {
     "ename": "ValueError",
     "evalue": "NumPy boolean array indexing assignment cannot assign 32918536 input values to the 30825014 output values where the mask is true",
     "output_type": "error",
     "traceback": [
      "\u001b[0;31m---------------------------------------------------------------------------\u001b[0m",
      "\u001b[0;31mValueError\u001b[0m                                Traceback (most recent call last)",
      "\u001b[0;32m/tmp/ipykernel_155269/431638972.py\u001b[0m in \u001b[0;36m<module>\u001b[0;34m\u001b[0m\n\u001b[1;32m      9\u001b[0m \u001b[0;34m\u001b[0m\u001b[0m\n\u001b[1;32m     10\u001b[0m \u001b[0mnew_array\u001b[0m \u001b[0;34m=\u001b[0m \u001b[0mnp\u001b[0m\u001b[0;34m.\u001b[0m\u001b[0mzeros_like\u001b[0m\u001b[0;34m(\u001b[0m\u001b[0mpacket_type\u001b[0m\u001b[0;34m)\u001b[0m\u001b[0;34m\u001b[0m\u001b[0;34m\u001b[0m\u001b[0m\n\u001b[0;32m---> 11\u001b[0;31m \u001b[0mnew_array\u001b[0m\u001b[0;34m[\u001b[0m\u001b[0;34m~\u001b[0m\u001b[0mmask\u001b[0m\u001b[0;34m]\u001b[0m \u001b[0;34m=\u001b[0m \u001b[0mrep_vals\u001b[0m\u001b[0;34m\u001b[0m\u001b[0;34m\u001b[0m\u001b[0m\n\u001b[0m",
      "\u001b[0;31mValueError\u001b[0m: NumPy boolean array indexing assignment cannot assign 32918536 input values to the 30825014 output values where the mask is true"
     ]
    }
   ],
   "source": [
    "packet_type = packets['packet_type']\n",
    "timestamps = packets['timestamp']\n",
    "mask = packets['packet_type'] == 4\n",
    "indices = np.where(mask)[0]\n",
    "\n",
    "rep_count = np.diff(np.concatenate(([0], indices, [len(packet_type)])))\n",
    "print(rep_count[0:20])\n",
    "rep_vals = np.repeat(timestamps[indices], rep_count[:-1])\n",
    "\n",
    "new_array = np.zeros_like(packet_type)\n",
    "new_array[~mask] = rep_vals"
   ]
  },
  {
   "cell_type": "code",
   "execution_count": 14,
   "id": "b72fa155",
   "metadata": {},
   "outputs": [
    {
     "data": {
      "text/plain": [
       "array([1, 1, 1, 1, 1, 1])"
      ]
     },
     "execution_count": 14,
     "metadata": {},
     "output_type": "execute_result"
    }
   ],
   "source": [
    "np.repeat([1,1,1],[2,2,2])"
   ]
  },
  {
   "cell_type": "code",
   "execution_count": 4,
   "id": "640057d3",
   "metadata": {},
   "outputs": [],
   "source": [
    "packet_type = packets['packet_type']\n",
    "timestamps = packets['timestamp']\n",
    "mask = packets['packet_type'] == 4\n",
    "indices = np.where(mask)[0]\n",
    "rep_count = np.diff(indices)"
   ]
  },
  {
   "cell_type": "code",
   "execution_count": 13,
   "id": "6a834f59",
   "metadata": {},
   "outputs": [
    {
     "data": {
      "text/plain": [
       "array([1, 4])"
      ]
     },
     "execution_count": 13,
     "metadata": {},
     "output_type": "execute_result"
    }
   ],
   "source": [
    "np.array([1.2,4.5]).astype('int')"
   ]
  },
  {
   "cell_type": "code",
   "execution_count": 5,
   "id": "52e5d4b1",
   "metadata": {},
   "outputs": [],
   "source": [
    "rep_vals = np.repeat(timestamps[indices][:-1], rep_count)"
   ]
  },
  {
   "cell_type": "code",
   "execution_count": 8,
   "id": "40eb8a10",
   "metadata": {},
   "outputs": [
    {
     "name": "stdout",
     "output_type": "stream",
     "text": [
      "[100 100 100 100 100 101 101 102 102 102 103 103 103 103 103 103 103]\n"
     ]
    }
   ],
   "source": [
    "x = np.array([4,0,0,0,0,4,0,4,0,0,4,0,0,0,0,0,0,4])\n",
    "y = np.array([100,1,2,3,4,101,5,102,6,7,103,8,9,10,11,12,13,104])\n",
    "mask = x == 4\n",
    "indices = np.where(mask)[0]\n",
    "rep_count = np.diff(indices)\n",
    "rep_vals = np.repeat(y[indices][:-1], rep_count)\n",
    "print(rep_vals)\n",
    "\n"
   ]
  },
  {
   "cell_type": "code",
   "execution_count": 47,
   "id": "55fbfbe0",
   "metadata": {},
   "outputs": [
    {
     "name": "stdout",
     "output_type": "stream",
     "text": [
      "[0 0 0 0 0 0 0 0 0 0 0 0 0 0 0 0 0 0 0 0 4 0 4 0 0 0 0 0 0 0]\n"
     ]
    }
   ],
   "source": [
    "print(packet_type[77641:77671])"
   ]
  },
  {
   "cell_type": "code",
   "execution_count": 48,
   "id": "74cd516c",
   "metadata": {},
   "outputs": [
    {
     "name": "stdout",
     "output_type": "stream",
     "text": [
      "[  58720283         52         63         29         24         48\n",
      "         25         61   58720311         25         17         57\n",
      "         29         31       3024         32   58720273         54\n",
      "      73488         31 1617489694    9632043 1617489695         30\n",
      "         65         23     168956   58720301         22         47]\n"
     ]
    }
   ],
   "source": [
    "print(timestamps[77641:77671])"
   ]
  },
  {
   "cell_type": "code",
   "execution_count": 49,
   "id": "b819d30e",
   "metadata": {},
   "outputs": [
    {
     "name": "stdout",
     "output_type": "stream",
     "text": [
      "[1617489695 1617489695 1617489695 1617489695 1617489695 1617489695\n",
      " 1617489695 1617489695 1617489695 1617489695 1617489695 1617489695\n",
      " 1617489695 1617489695 1617489695 1617489695 1617489695 1617489695\n",
      " 1617489695 1617489695 1617489694 1617489694 1617489695 1617489695\n",
      " 1617489695 1617489695 1617489695 1617489695 1617489695 1617489695]\n"
     ]
    }
   ],
   "source": [
    "print(rep_vals[77641:77671])"
   ]
  },
  {
   "cell_type": "code",
   "execution_count": 54,
   "id": "f09c78fb",
   "metadata": {},
   "outputs": [
    {
     "data": {
      "text/plain": [
       "array([  150268,   150286,   150307, ..., 32918532, 32918534, 32918536])"
      ]
     },
     "execution_count": 54,
     "metadata": {},
     "output_type": "execute_result"
    }
   ],
   "source": [
    "np.where(timestamps >= 1617489696)[0]"
   ]
  },
  {
   "cell_type": "code",
   "execution_count": 7,
   "id": "321b13cb",
   "metadata": {},
   "outputs": [
    {
     "data": {
      "text/plain": [
       "(1617489700.0, 1617489750.0)"
      ]
     },
     "execution_count": 7,
     "metadata": {},
     "output_type": "execute_result"
    },
    {
     "data": {
      "application/vnd.jupyter.widget-view+json": {
       "model_id": "b4e29a1a01024f67b8253a3a947d15b2",
       "version_major": 2,
       "version_minor": 0
      },
      "text/html": [
       "\n",
       "            <div style=\"display: inline-block;\">\n",
       "                <div class=\"jupyter-widgets widget-label\" style=\"text-align: center;\">\n",
       "                    Figure\n",
       "                </div>\n",
       "                <img src='data:image/png;base64,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' width=640.0/>\n",
       "            </div>\n",
       "        "
      ],
      "text/plain": [
       "Canvas(toolbar=Toolbar(toolitems=[('Home', 'Reset original view', 'home', 'home'), ('Back', 'Back to previous …"
      ]
     },
     "metadata": {},
     "output_type": "display_data"
    }
   ],
   "source": [
    "%matplotlib widget\n",
    "plt.plot(rep_vals)\n",
    "plt.xlim(0.5e7, 0.6e7)\n",
    "plt.ylim(700+1.617489e9, 750+1.617489e9)"
   ]
  },
  {
   "cell_type": "code",
   "execution_count": 14,
   "id": "82d9feaa",
   "metadata": {},
   "outputs": [],
   "source": [
    "event_dtype = np.dtype([('nhit', '<u1'), ('q', '<f8'),('t', '<f8'),('x', '<f8'),('y', '<f8'),('z', '<f8')])\n",
    "x = np.zeros((1,), dtype=event_dtype)"
   ]
  },
  {
   "cell_type": "code",
   "execution_count": 25,
   "id": "1abad75d",
   "metadata": {},
   "outputs": [],
   "source": [
    "arrays = dict()\n",
    "np.savez('arrays.npz', [x,x,x])"
   ]
  },
  {
   "cell_type": "code",
   "execution_count": 40,
   "id": "c8404b53",
   "metadata": {},
   "outputs": [
    {
     "data": {
      "text/plain": [
       "{}"
      ]
     },
     "execution_count": 40,
     "metadata": {},
     "output_type": "execute_result"
    }
   ],
   "source": []
  },
  {
   "cell_type": "code",
   "execution_count": 34,
   "id": "55b234d1",
   "metadata": {},
   "outputs": [
    {
     "data": {
      "text/plain": [
       "{'0': array([1, 2, 3, 4, 5]),\n",
       " '1': array([1, 2, 3, 4, 5]),\n",
       " '2': array([1, 2, 3, 4, 5]),\n",
       " '3': array([1, 2, 3, 4, 5]),\n",
       " '4': array([1, 2, 3, 4, 5])}"
      ]
     },
     "execution_count": 34,
     "metadata": {},
     "output_type": "execute_result"
    }
   ],
   "source": [
    "x = np.array([1,2,3,4,5])\n",
    "thisdict = {str(i):x for i in range(0,5)}\n",
    "thisdict[]"
   ]
  },
  {
   "cell_type": "code",
   "execution_count": 48,
   "id": "e668bad7",
   "metadata": {},
   "outputs": [
    {
     "data": {
      "text/plain": [
       "array([0.])"
      ]
     },
     "execution_count": 48,
     "metadata": {},
     "output_type": "execute_result"
    }
   ],
   "source": [
    "packets_dtype = np.dtype([('q', '<f8'),('t', '<f8'),('x', '<f8'),('y', '<f8'),('z', '<f8')])\n",
    "event_packets = np.zeros(1, dtype=[('q', '<f8'),('t', '<f8'),('x', '<f8'),('y', '<f8'),('z', '<f8')])\n",
    "event_packets['q']"
   ]
  },
  {
   "cell_type": "code",
   "execution_count": 55,
   "id": "221293af",
   "metadata": {},
   "outputs": [
    {
     "data": {
      "text/plain": [
       "{'0': array([(0., 0.)], dtype=[('q', '<f8'), ('h', '<f8')])}"
      ]
     },
     "execution_count": 55,
     "metadata": {},
     "output_type": "execute_result"
    }
   ],
   "source": [
    "{'0': np.zeros(1, dtype=[('q', '<f8'),('h', '<f8')])}"
   ]
  },
  {
   "cell_type": "code",
   "execution_count": 35,
   "id": "e1b84c43",
   "metadata": {},
   "outputs": [],
   "source": [
    "np.savez('arrays.npz', **thisdict)"
   ]
  },
  {
   "cell_type": "code",
   "execution_count": 36,
   "id": "a8c7c5f7",
   "metadata": {},
   "outputs": [],
   "source": [
    "npz_file = np.load('arrays.npz')"
   ]
  },
  {
   "cell_type": "code",
   "execution_count": 37,
   "id": "416a83a7",
   "metadata": {},
   "outputs": [
    {
     "data": {
      "text/plain": [
       "['0', '1', '2', '3', '4']"
      ]
     },
     "execution_count": 37,
     "metadata": {},
     "output_type": "execute_result"
    }
   ],
   "source": [
    "npz_file.files"
   ]
  },
  {
   "cell_type": "code",
   "execution_count": 39,
   "id": "03cca3ed",
   "metadata": {},
   "outputs": [
    {
     "data": {
      "text/plain": [
       "array([1, 2, 3, 4, 5])"
      ]
     },
     "execution_count": 39,
     "metadata": {},
     "output_type": "execute_result"
    }
   ],
   "source": [
    "npz_file['0']"
   ]
  },
  {
   "cell_type": "code",
   "execution_count": 29,
   "id": "4a82fab1",
   "metadata": {},
   "outputs": [
    {
     "data": {
      "text/plain": [
       "array([[(0, 0., 0., 0., 0., 0.)],\n",
       "       [(0, 0., 0., 0., 0., 0.)],\n",
       "       [(0, 0., 0., 0., 0., 0.)]],\n",
       "      dtype=[('nhit', 'u1'), ('q', '<f8'), ('t', '<f8'), ('x', '<f8'), ('y', '<f8'), ('z', '<f8')])"
      ]
     },
     "execution_count": 29,
     "metadata": {},
     "output_type": "execute_result"
    }
   ],
   "source": [
    "npz_file['arr_0']"
   ]
  },
  {
   "cell_type": "code",
   "execution_count": 21,
   "id": "f03c7cf3",
   "metadata": {},
   "outputs": [
    {
     "ename": "TypeError",
     "evalue": "'NpzFile' object does not support item assignment",
     "output_type": "error",
     "traceback": [
      "\u001b[0;31m---------------------------------------------------------------------------\u001b[0m",
      "\u001b[0;31mTypeError\u001b[0m                                 Traceback (most recent call last)",
      "\u001b[0;32m/tmp/ipykernel_8042/120951896.py\u001b[0m in \u001b[0;36m<module>\u001b[0;34m\u001b[0m\n\u001b[1;32m      1\u001b[0m \u001b[0;32mwith\u001b[0m \u001b[0mnp\u001b[0m\u001b[0;34m.\u001b[0m\u001b[0mload\u001b[0m\u001b[0;34m(\u001b[0m\u001b[0;34m'arrays.npz'\u001b[0m\u001b[0;34m)\u001b[0m \u001b[0;32mas\u001b[0m \u001b[0mnpz_file\u001b[0m\u001b[0;34m:\u001b[0m\u001b[0;34m\u001b[0m\u001b[0;34m\u001b[0m\u001b[0m\n\u001b[0;32m----> 2\u001b[0;31m     \u001b[0mnpz_file\u001b[0m\u001b[0;34m[\u001b[0m\u001b[0;34m'arr0'\u001b[0m\u001b[0;34m]\u001b[0m \u001b[0;34m=\u001b[0m \u001b[0mx\u001b[0m\u001b[0;34m\u001b[0m\u001b[0;34m\u001b[0m\u001b[0m\n\u001b[0m",
      "\u001b[0;31mTypeError\u001b[0m: 'NpzFile' object does not support item assignment"
     ]
    }
   ],
   "source": [
    "with np.load('arrays.npz') as npz_file:\n",
    "    npz_file['arr0'] = x"
   ]
  },
  {
   "cell_type": "code",
   "execution_count": 19,
   "id": "d563691c",
   "metadata": {},
   "outputs": [
    {
     "data": {
      "text/plain": [
       "array([0, 0], dtype=uint8)"
      ]
     },
     "execution_count": 19,
     "metadata": {},
     "output_type": "execute_result"
    }
   ],
   "source": [
    "np.concatenate((x, x))['nhit']"
   ]
  },
  {
   "cell_type": "code",
   "execution_count": null,
   "id": "8cc97a5f",
   "metadata": {},
   "outputs": [],
   "source": []
  },
  {
   "cell_type": "code",
   "execution_count": 12,
   "id": "19672a46",
   "metadata": {},
   "outputs": [
    {
     "data": {
      "text/plain": [
       "(array([ 49., 655., 694., 478., 429., 343., 303., 255., 258., 230., 259.,\n",
       "        198., 177., 184., 143., 166., 139., 171., 143., 151., 157., 113.,\n",
       "        118., 113., 140., 129., 100., 125., 113.,  98., 122.,  84.,  84.,\n",
       "         74.,  65.,  65.,  59.,  59.,  72.,  47.,  67.,  52.,  51.,  47.,\n",
       "         51.,  55.,  37.,  34.,  25.,  31.]),\n",
       " array([  0. ,   5.1,  10.2,  15.3,  20.4,  25.5,  30.6,  35.7,  40.8,\n",
       "         45.9,  51. ,  56.1,  61.2,  66.3,  71.4,  76.5,  81.6,  86.7,\n",
       "         91.8,  96.9, 102. , 107.1, 112.2, 117.3, 122.4, 127.5, 132.6,\n",
       "        137.7, 142.8, 147.9, 153. , 158.1, 163.2, 168.3, 173.4, 178.5,\n",
       "        183.6, 188.7, 193.8, 198.9, 204. , 209.1, 214.2, 219.3, 224.4,\n",
       "        229.5, 234.6, 239.7, 244.8, 249.9, 255. ]),\n",
       " <BarContainer object of 50 artists>)"
      ]
     },
     "execution_count": 12,
     "metadata": {},
     "output_type": "execute_result"
    },
    {
     "data": {
      "application/vnd.jupyter.widget-view+json": {
       "model_id": "64a286dd5ebc44d68056ce1865f50ca6",
       "version_major": 2,
       "version_minor": 0
      },
      "text/html": [
       "\n",
       "            <div style=\"display: inline-block;\">\n",
       "                <div class=\"jupyter-widgets widget-label\" style=\"text-align: center;\">\n",
       "                    Figure\n",
       "                </div>\n",
       "                <img src='data:image/png;base64,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' width=640.0/>\n",
       "            </div>\n",
       "        "
      ],
      "text/plain": [
       "Canvas(toolbar=Toolbar(toolitems=[('Home', 'Reset original view', 'home', 'home'), ('Back', 'Back to previous …"
      ]
     },
     "metadata": {},
     "output_type": "display_data"
    }
   ],
   "source": [
    "nhit_tracks = file['large_clusters']['nhit']\n",
    "%matplotlib widget\n",
    "plt.hist(nhit_tracks, bins=50)"
   ]
  },
  {
   "cell_type": "code",
   "execution_count": 14,
   "id": "7f4199ba",
   "metadata": {},
   "outputs": [
    {
     "data": {
      "text/plain": [
       "(array([7.990e+02, 1.177e+03, 7.800e+02, 5.990e+02, 5.120e+02, 4.450e+02,\n",
       "        3.680e+02, 3.590e+02, 3.640e+02, 3.520e+02, 3.230e+02, 2.620e+02,\n",
       "        2.190e+02, 1.750e+02, 1.710e+02, 1.230e+02, 1.330e+02, 9.700e+01,\n",
       "        9.000e+01, 7.200e+01, 5.700e+01, 4.300e+01, 3.900e+01, 3.900e+01,\n",
       "        2.200e+01, 2.100e+01, 2.100e+01, 1.300e+01, 8.000e+00, 1.400e+01,\n",
       "        1.000e+01, 1.500e+01, 1.200e+01, 9.000e+00, 4.000e+00, 7.000e+00,\n",
       "        3.000e+00, 4.000e+00, 4.000e+00, 2.000e+00, 4.000e+00, 3.000e+00,\n",
       "        1.000e+00, 1.000e+00, 3.000e+00, 2.000e+00, 0.000e+00, 1.000e+00,\n",
       "        2.000e+00, 0.000e+00]),\n",
       " array([    0.,   200.,   400.,   600.,   800.,  1000.,  1200.,  1400.,\n",
       "         1600.,  1800.,  2000.,  2200.,  2400.,  2600.,  2800.,  3000.,\n",
       "         3200.,  3400.,  3600.,  3800.,  4000.,  4200.,  4400.,  4600.,\n",
       "         4800.,  5000.,  5200.,  5400.,  5600.,  5800.,  6000.,  6200.,\n",
       "         6400.,  6600.,  6800.,  7000.,  7200.,  7400.,  7600.,  7800.,\n",
       "         8000.,  8200.,  8400.,  8600.,  8800.,  9000.,  9200.,  9400.,\n",
       "         9600.,  9800., 10000.]),\n",
       " <BarContainer object of 50 artists>)"
      ]
     },
     "execution_count": 14,
     "metadata": {},
     "output_type": "execute_result"
    },
    {
     "data": {
      "application/vnd.jupyter.widget-view+json": {
       "model_id": "bafdcb8b724042b4b2647411e9c37580",
       "version_major": 2,
       "version_minor": 0
      },
      "text/html": [
       "\n",
       "            <div style=\"display: inline-block;\">\n",
       "                <div class=\"jupyter-widgets widget-label\" style=\"text-align: center;\">\n",
       "                    Figure\n",
       "                </div>\n",
       "                <img src='data:image/png;base64,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' width=640.0/>\n",
       "            </div>\n",
       "        "
      ],
      "text/plain": [
       "Canvas(toolbar=Toolbar(toolitems=[('Home', 'Reset original view', 'home', 'home'), ('Back', 'Back to previous …"
      ]
     },
     "metadata": {},
     "output_type": "display_data"
    }
   ],
   "source": [
    "q_tracks = file['large_clusters']['q']\n",
    "%matplotlib widget\n",
    "plt.hist(q_tracks, bins=50, range=(0,10000))\n"
   ]
  },
  {
   "cell_type": "code",
   "execution_count": null,
   "id": "d5a66b82",
   "metadata": {},
   "outputs": [],
   "source": []
  }
 ],
 "metadata": {
  "kernelspec": {
   "display_name": "Python 3 (ipykernel)",
   "language": "python",
   "name": "python3"
  },
  "language_info": {
   "codemirror_mode": {
    "name": "ipython",
    "version": 3
   },
   "file_extension": ".py",
   "mimetype": "text/x-python",
   "name": "python",
   "nbconvert_exporter": "python",
   "pygments_lexer": "ipython3",
   "version": "3.8.10"
  }
 },
 "nbformat": 4,
 "nbformat_minor": 5
}
