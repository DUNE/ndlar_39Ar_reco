{
 "cells": [
  {
   "cell_type": "code",
   "execution_count": 1,
   "id": "2d333484",
   "metadata": {},
   "outputs": [
    {
     "data": {
      "text/plain": [
       "0"
      ]
     },
     "execution_count": 1,
     "metadata": {},
     "output_type": "execute_result"
    }
   ],
   "source": [
    "import numpy as np\n",
    "import h5py\n",
    "num = 100\n",
    "num - int(num)"
   ]
  },
  {
   "cell_type": "code",
   "execution_count": 12,
   "id": "8f61136f",
   "metadata": {},
   "outputs": [
    {
     "data": {
      "text/plain": [
       "5"
      ]
     },
     "execution_count": 12,
     "metadata": {},
     "output_type": "execute_result"
    }
   ],
   "source": [
    "int(5.9)"
   ]
  },
  {
   "cell_type": "code",
   "execution_count": 28,
   "id": "9fe1f897",
   "metadata": {},
   "outputs": [],
   "source": [
    "filename = '/sdf/group/neutrino/sfogarty/module0_files/charge_data/datalog_2021_04_04_00_41_40_CEST.h5'\n",
    "#filename = '/sdf/group/neutrino/sfogarty/module0_files/Argon39/larnd-sim/larndsim_argon39_0002.h5'\n",
    "file = h5py.File(filename)"
   ]
  },
  {
   "cell_type": "code",
   "execution_count": 29,
   "id": "8f65d7ae",
   "metadata": {},
   "outputs": [],
   "source": [
    "packets = file['packets']"
   ]
  },
  {
   "cell_type": "code",
   "execution_count": 26,
   "id": "777da011",
   "metadata": {},
   "outputs": [
    {
     "data": {
      "text/plain": [
       "array([(0, 0, 0, 4, 0, 0, 0, 0, 0, 0,  0, 0, 0, 0, 0, 0, 0, 0, 0, 0, 0, 0),\n",
       "       (1, 0, 0, 6, 0, 0, 0, 0, 0, 0, 83, 0, 0, 0, 0, 0, 0, 0, 0, 0, 0, 0),\n",
       "       (0, 0, 0, 4, 0, 0, 0, 0, 0, 0,  0, 0, 0, 0, 0, 0, 0, 0, 0, 0, 0, 0),\n",
       "       (2, 0, 0, 6, 0, 0, 0, 0, 0, 0, 83, 0, 0, 0, 0, 0, 0, 0, 0, 0, 0, 0),\n",
       "       (0, 0, 0, 4, 0, 0, 0, 0, 0, 0,  0, 0, 0, 0, 0, 0, 0, 0, 0, 0, 0, 0)],\n",
       "      dtype=[('io_group', 'u1'), ('io_channel', 'u1'), ('chip_id', 'u1'), ('packet_type', 'u1'), ('downstream_marker', 'u1'), ('parity', 'u1'), ('valid_parity', 'u1'), ('channel_id', 'u1'), ('timestamp', '<u8'), ('dataword', 'u1'), ('trigger_type', 'u1'), ('local_fifo', 'u1'), ('shared_fifo', 'u1'), ('register_address', 'u1'), ('register_data', 'u1'), ('direction', 'u1'), ('local_fifo_events', 'u1'), ('shared_fifo_events', '<u2'), ('counter', '<u4'), ('fifo_diagnostics_enabled', 'u1'), ('first_packet', 'u1'), ('receipt_timestamp', '<u4')])"
      ]
     },
     "execution_count": 26,
     "metadata": {},
     "output_type": "execute_result"
    }
   ],
   "source": [
    "packets[0:5]"
   ]
  },
  {
   "cell_type": "code",
   "execution_count": 17,
   "id": "b93c74f9",
   "metadata": {
    "scrolled": true
   },
   "outputs": [
    {
     "data": {
      "text/plain": [
       "array([(2,  0,   0, 4, 0, 0, 0, 0, 1617489694,   0, 0, 0, 0,  0,   0, 0, 0, 0, 0, 0, 0,       0),\n",
       "       (2, 18,  45, 0, 1, 1, 1, 0,    9013004, 104, 0, 0, 0,  0, 195, 0, 0, 0, 0, 0, 1, 9019544),\n",
       "       (1,  0,   0, 4, 0, 0, 0, 0, 1617489694,   0, 0, 0, 0,  0,   0, 0, 0, 0, 0, 0, 0,       0),\n",
       "       (1, 27, 106, 0, 1, 1, 1, 3,    9041301,  94, 0, 0, 0, 67, 101, 0, 0, 0, 0, 0, 1, 9046708)],\n",
       "      dtype=[('io_group', 'u1'), ('io_channel', 'u1'), ('chip_id', 'u1'), ('packet_type', 'u1'), ('downstream_marker', 'u1'), ('parity', 'u1'), ('valid_parity', 'u1'), ('channel_id', 'u1'), ('timestamp', '<u8'), ('dataword', 'u1'), ('trigger_type', 'u1'), ('local_fifo', 'u1'), ('shared_fifo', 'u1'), ('register_address', 'u1'), ('register_data', 'u1'), ('direction', 'u1'), ('local_fifo_events', 'u1'), ('shared_fifo_events', '<u2'), ('counter', '<u4'), ('fifo_diagnostics_enabled', 'u1'), ('first_packet', 'u1'), ('receipt_timestamp', '<u4')])"
      ]
     },
     "execution_count": 17,
     "metadata": {},
     "output_type": "execute_result"
    }
   ],
   "source": [
    "packets[6:10]"
   ]
  },
  {
   "cell_type": "code",
   "execution_count": 20,
   "id": "9b3f05b3",
   "metadata": {},
   "outputs": [
    {
     "data": {
      "text/plain": [
       "array([(1,  0,   0, 4, 0, 0, 0,  0, 1617489694,   0, 0, 0, 0,   0,   0, 0, 0, 0, 0, 0, 0,       0),\n",
       "       (1,  9,  24, 0, 1, 0, 1, 58,    9016837,  89, 0, 0, 0, 122, 129, 0, 0, 0, 0, 0, 1, 9021647),\n",
       "       (2,  0,   0, 4, 0, 0, 0,  0, 1617489694,   0, 0, 0, 0,   0,   0, 0, 0, 0, 0, 0, 0,       0),\n",
       "       (2, 25,  13, 0, 1, 0, 1,  0,    9016054,  85, 0, 0, 0, 128, 189, 0, 0, 0, 0, 0, 1, 9016917),\n",
       "       (1,  0,   0, 4, 0, 0, 0,  0, 1617489694,   0, 0, 0, 0,   0,   0, 0, 0, 0, 0, 0, 0,       0),\n",
       "       (2,  0,   0, 4, 0, 0, 0,  0, 1617489694,   0, 0, 0, 0,   0,   0, 0, 0, 0, 0, 0, 0,       0),\n",
       "       (2, 18,  45, 0, 1, 1, 1,  0,    9013004, 104, 0, 0, 0,   0, 195, 0, 0, 0, 0, 0, 1, 9019544),\n",
       "       (1,  0,   0, 4, 0, 0, 0,  0, 1617489694,   0, 0, 0, 0,   0,   0, 0, 0, 0, 0, 0, 0,       0),\n",
       "       (1, 27, 106, 0, 1, 1, 1,  3,    9041301,  94, 0, 0, 0,  67, 101, 0, 0, 0, 0, 0, 1, 9046708)],\n",
       "      dtype=[('io_group', 'u1'), ('io_channel', 'u1'), ('chip_id', 'u1'), ('packet_type', 'u1'), ('downstream_marker', 'u1'), ('parity', 'u1'), ('valid_parity', 'u1'), ('channel_id', 'u1'), ('timestamp', '<u8'), ('dataword', 'u1'), ('trigger_type', 'u1'), ('local_fifo', 'u1'), ('shared_fifo', 'u1'), ('register_address', 'u1'), ('register_data', 'u1'), ('direction', 'u1'), ('local_fifo_events', 'u1'), ('shared_fifo_events', '<u2'), ('counter', '<u4'), ('fifo_diagnostics_enabled', 'u1'), ('first_packet', 'u1'), ('receipt_timestamp', '<u4')])"
      ]
     },
     "execution_count": 20,
     "metadata": {},
     "output_type": "execute_result"
    }
   ],
   "source": [
    "np.concatenate((packets[0:5],packets[6:10]))"
   ]
  },
  {
   "cell_type": "code",
   "execution_count": 31,
   "id": "4ef9c839",
   "metadata": {},
   "outputs": [
    {
     "data": {
      "text/plain": [
       "(array([    3096,    84457,   305038,   305059,   437391,   437497,\n",
       "          587752,   587754,   702858,   702912,   964226,   964276,\n",
       "         1067810,  1067812,  1243380,  1243382,  1386097,  1386099,\n",
       "         1589772,  1589774,  1704745,  1704750,  1878302,  1878307,\n",
       "         2026862,  2026985,  2217509,  2217511,  2343879,  2343881,\n",
       "         2568122,  2568182,  2649022,  2649024,  2877795,  2877797,\n",
       "         2992895,  2992897,  3150013,  3150015,  3282445,  3282487,\n",
       "         3431565,  3431567,  3558353,  3558403,  3777242,  3777248,\n",
       "         3883660,  3883693,  4042240,  4042242,  4148956,  4149003,\n",
       "         4433882,  4433884,  4541319,  4541439,  4712567,  4712588,\n",
       "         4812148,  4812156,  4972442,  4972464,  5127382,  5127408,\n",
       "         5262146,  5262163,  5401191,  5401222,  5571673,  5571699,\n",
       "         5706874,  5706935,  5880178,  5880204,  5979579,  5979603,\n",
       "         6165461,  6165463,  6287195,  6287220,  6501154,  6501172,\n",
       "         6635469,  6635492,  6782952,  6782971,  6912585,  6912588,\n",
       "         7052634,  7052654,  7210073,  7210075,  7342016,  7342096,\n",
       "         7464657,  7464678,  7731179,  7731200,  7867391,  7867415,\n",
       "         8016879,  8016915,  8130358,  8130379,  8284961,  8284964,\n",
       "         8415411,  8415430,  8628382,  8628400,  8739723,  8739891,\n",
       "         8870665,  8870681,  9065835,  9066097,  9203337,  9203357,\n",
       "         9331192,  9331223,  9535477,  9535497,  9670750,  9670772,\n",
       "         9819951,  9819980,  9976264,  9976292, 10100328, 10100332,\n",
       "        10246354, 10246377, 10410487, 10410494, 10532636, 10532638,\n",
       "        10683980, 10683982, 10822168, 10822211, 10967505, 10967523,\n",
       "        11111974, 11111993, 11258908, 11258927, 11399258, 11399285,\n",
       "        11527265, 11527319, 11717491, 11717533, 11903054, 11903072,\n",
       "        12036598, 12036626, 12154318, 12154342, 12350088, 12350107,\n",
       "        12475645, 12475668, 12667106, 12667146, 12816838, 12816840,\n",
       "        12969091, 12969117, 13088284, 13088288, 13263313, 13263353,\n",
       "        13369506, 13369513, 13527215, 13527232, 13664319, 13664341,\n",
       "        13850731, 13850747, 13977058, 13977081, 14148225, 14148240,\n",
       "        14283181, 14283205, 14429670, 14429686, 14556627, 14556650,\n",
       "        14706443, 14706553, 14831081, 14831106, 14983687, 14983765,\n",
       "        15130192, 15130213, 15290055, 15290062, 15454603, 15454688,\n",
       "        15600072, 15600133, 15747387, 15747492, 15883726, 15883735,\n",
       "        16056898, 16056926, 16179263, 16179265, 16323866, 16323886,\n",
       "        16504797, 16504799, 16651210, 16651225, 16797282, 16797286,\n",
       "        16975020, 16975030, 17100248, 17100267, 17249524, 17249526,\n",
       "        17420111, 17420138, 17559393, 17559410, 17695619, 17695650,\n",
       "        17862250, 17862268, 18042254, 18042283, 18183981, 18184008,\n",
       "        18390594, 18390703, 18525287, 18525315, 18696656, 18696714,\n",
       "        18818282, 18818284, 18988446, 18988457, 19126137, 19126140,\n",
       "        19251092, 19251099, 19383044, 19383046, 19522887, 19522941,\n",
       "        19691771, 19691792, 19811452, 19811510, 19984750, 19984856,\n",
       "        20117269, 20117271, 20276301, 20276303, 20408938, 20408973,\n",
       "        20530739, 20530772, 20707899, 20707923, 20803322, 20803347,\n",
       "        21021823, 21021836, 21217903, 21217906, 21361069, 21361099,\n",
       "        21537777, 21537803, 21710349, 21710370, 21818785, 21818791,\n",
       "        21993065, 21993082, 22166563, 22166585, 22302813, 22302828,\n",
       "        22489964, 22533913, 22656339, 22656369, 22779900, 22780693,\n",
       "        22950838, 22950840, 23056230, 23056260, 23208528, 23208547,\n",
       "        23354278, 23354280, 23521957, 23521959, 23645229, 23645261,\n",
       "        23843609, 23843611, 23971080, 23971103, 24116723, 24116734,\n",
       "        24265063, 24265110, 24429482, 24429499, 24547557, 24603567,\n",
       "        24688747, 24688753, 24810957, 24810981, 24987421, 24987435,\n",
       "        25103182, 25103209, 25286946, 25286974, 25433169, 25433197,\n",
       "        25583725, 25583754, 25701801, 25701890, 25846576, 25846669,\n",
       "        25995831, 25995834, 26151102, 26151122, 26302523, 26302548,\n",
       "        26483507, 26483520, 26597465, 26597491, 26750400, 26750415,\n",
       "        26890181, 26890210, 27034876, 27034898, 27177178, 27177202,\n",
       "        27370125, 27370127, 27528069, 27528071, 27664919, 27664939,\n",
       "        27831627, 27831696, 27960515, 27961225, 28099641, 28099647,\n",
       "        28302235, 28302290, 28482481, 28482499, 28641919, 28641921,\n",
       "        28775458, 28775489, 28950652, 28950678, 29063497, 29063523,\n",
       "        29266061, 29266070, 29389781, 29389808, 29556350, 29556361,\n",
       "        29717946, 29717970, 29885035, 29885049, 29995354, 30132594,\n",
       "        30143694, 30233794, 30353658, 30353681, 30520221, 30520225,\n",
       "        30627596, 30627627, 30855646, 30855670, 30967321, 30967354,\n",
       "        31144426, 31144469, 31243693, 31243722, 31413370, 31413384,\n",
       "        31550253, 31550271, 31733256, 31733258, 31889284, 31889292,\n",
       "        32091747, 32091766, 32220989, 32221009, 32405348, 32405379,\n",
       "        32636362, 32636382, 32793201, 32793203]),)"
      ]
     },
     "execution_count": 31,
     "metadata": {},
     "output_type": "execute_result"
    }
   ],
   "source": [
    "np.where((packets['packet_type'] == 6) &  (packets['trigger_type'] == 83))"
   ]
  },
  {
   "cell_type": "code",
   "execution_count": 2,
   "id": "e7d1dfd0",
   "metadata": {},
   "outputs": [],
   "source": [
    "filename = '/sdf/group/neutrino/sfogarty/module0_files/charge_data/datalog_2021_04_04_00_41_40_CEST_events.h5'\n",
    "file_new = h5py.File(filename)\n",
    "filename = '/sdf/group/neutrino/sfogarty/module0_files/charge_data/datalog_2021_04_04_00_41_40_CEST_events_old.h5'\n",
    "file_old = h5py.File(filename)"
   ]
  },
  {
   "cell_type": "code",
   "execution_count": 6,
   "id": "9be44e5d",
   "metadata": {},
   "outputs": [
    {
     "data": {
      "text/plain": [
       "array([(1, 10.75016392, 1442689.68173162, -192.879,   37.689, -304.31),\n",
       "       (1,  1.27803539, 1442568.43473695,  232.785, -614.109,  304.31),\n",
       "       (1, 20.93332963, 1444697.033698  , -184.011,  325.899, -304.31),\n",
       "       (1, 22.26559617, 1442080.43531133,  170.709, -210.615,  304.31),\n",
       "       (1, 15.59847048, 1446603.90606651, -152.973, -339.201, -304.31),\n",
       "       (1, 38.86314282, 1444474.83249312,  232.785, -614.109,  304.31),\n",
       "       (1, 13.31785377, 1446498.62648785, -139.671, -432.315, -304.31),\n",
       "       (1, 32.6312438 , 1444136.1128918 ,    6.651, -126.369,  304.31),\n",
       "       (1,  6.23128938, 1449146.45589097,   90.897,  481.089, -304.31),\n",
       "       (1, 13.8052002 , 1444970.83190933,  272.691,  246.087,  304.31)],\n",
       "      dtype=[('nhit', 'u1'), ('q', '<f8'), ('t', '<f8'), ('x', '<f8'), ('y', '<f8'), ('z', '<f8')])"
      ]
     },
     "execution_count": 6,
     "metadata": {},
     "output_type": "execute_result"
    }
   ],
   "source": [
    "file_new['small_clusters'][0:10]"
   ]
  },
  {
   "cell_type": "code",
   "execution_count": 7,
   "id": "12643756",
   "metadata": {},
   "outputs": [
    {
     "data": {
      "text/plain": [
       "array([(1, 12.4047391 , 161071.61089531,   90.897, -241.653, -304.31),\n",
       "       (1,  6.14251883, 161853.04776792,  303.729, -361.371, -304.31),\n",
       "       (1, 59.77628849, 166459.58933208,  308.163, -352.503, -304.31),\n",
       "       (1, 10.79035201, 170181.654436  , -117.501,   68.727, -304.31),\n",
       "       (1, 16.9081291 , 170338.77380719,   86.463, -170.709, -304.31),\n",
       "       (1, 15.1740825 , 170382.61363174,   77.595, -144.105, -304.31),\n",
       "       (1,  5.35369263, 170640.21260081,  241.653,  250.521, -304.31),\n",
       "       (1,  5.91858508, 172091.7267917 , -232.785, -339.201, -304.31),\n",
       "       (1, 12.17050622, 175346.27376668, -228.351,  401.277, -304.31),\n",
       "       (1,  9.26189409, 177035.52426919, -139.671,  268.257,  304.31)],\n",
       "      dtype=[('nhit', 'u1'), ('q', '<f8'), ('t', '<f8'), ('x', '<f8'), ('y', '<f8'), ('z', '<f8')])"
      ]
     },
     "execution_count": 7,
     "metadata": {},
     "output_type": "execute_result"
    }
   ],
   "source": [
    "file_old['small_clusters'][0:10]"
   ]
  },
  {
   "cell_type": "code",
   "execution_count": 4,
   "id": "7d58a134",
   "metadata": {},
   "outputs": [
    {
     "data": {
      "text/plain": [
       "<KeysViewHDF5 ['small_clusters']>"
      ]
     },
     "execution_count": 4,
     "metadata": {},
     "output_type": "execute_result"
    }
   ],
   "source": [
    "file_old.keys()"
   ]
  },
  {
   "cell_type": "code",
   "execution_count": 21,
   "id": "271e397d",
   "metadata": {},
   "outputs": [
    {
     "data": {
      "text/plain": [
       "(array([1636., 1088.,  778.,  711.,  447.,  681.,  654.,  554.,  610.,\n",
       "         411.,  540.,  531.,  519.,  412.,  489.,  492.,  486.,  403.,\n",
       "         299.,  446.,  491.,  491.,  262.,  456.,  333.,  300.,  382.,\n",
       "         256.,  437.,  407.,  433.,  321.,  402.,  437.,  440.,  429.,\n",
       "         335.,  459.,  496.,  478.,  334.,  515.,  507., 8118.,  578.,\n",
       "         421.,  714.,  865., 1796., 1980.]),\n",
       " array([-308.163  , -295.83648, -283.50996, -271.18344, -258.85692,\n",
       "        -246.5304 , -234.20388, -221.87736, -209.55084, -197.22432,\n",
       "        -184.8978 , -172.57128, -160.24476, -147.91824, -135.59172,\n",
       "        -123.2652 , -110.93868,  -98.61216,  -86.28564,  -73.95912,\n",
       "         -61.6326 ,  -49.30608,  -36.97956,  -24.65304,  -12.32652,\n",
       "           0.     ,   12.32652,   24.65304,   36.97956,   49.30608,\n",
       "          61.6326 ,   73.95912,   86.28564,   98.61216,  110.93868,\n",
       "         123.2652 ,  135.59172,  147.91824,  160.24476,  172.57128,\n",
       "         184.8978 ,  197.22432,  209.55084,  221.87736,  234.20388,\n",
       "         246.5304 ,  258.85692,  271.18344,  283.50996,  295.83648,\n",
       "         308.163  ]),\n",
       " <BarContainer object of 50 artists>)"
      ]
     },
     "execution_count": 21,
     "metadata": {},
     "output_type": "execute_result"
    },
    {
     "data": {
      "application/vnd.jupyter.widget-view+json": {
       "model_id": "6b95e0917f4f418c83f2b92a57d56986",
       "version_major": 2,
       "version_minor": 0
      },
      "text/html": [
       "\n",
       "            <div style=\"display: inline-block;\">\n",
       "                <div class=\"jupyter-widgets widget-label\" style=\"text-align: center;\">\n",
       "                    Figure\n",
       "                </div>\n",
       "                <img src='data:image/png;base64,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' width=640.0/>\n",
       "            </div>\n",
       "        "
      ],
      "text/plain": [
       "Canvas(toolbar=Toolbar(toolitems=[('Home', 'Reset original view', 'home', 'home'), ('Back', 'Back to previous …"
      ]
     },
     "metadata": {},
     "output_type": "display_data"
    }
   ],
   "source": [
    "%matplotlib widget\n",
    "import matplotlib.pyplot as plt\n",
    "plt.hist(file_new['small_clusters']['x'],bins=50)"
   ]
  },
  {
   "cell_type": "code",
   "execution_count": 22,
   "id": "b7f5c431",
   "metadata": {},
   "outputs": [
    {
     "data": {
      "text/plain": [
       "(array([1864., 1223.,  847.,  802.,  491.,  773.,  722.,  611.,  651.,\n",
       "         437.,  567.,  552.,  535.,  426.,  525.,  539.,  527.,  437.,\n",
       "         328.,  466.,  504.,  525.,  276.,  484.,  348.,  385.,  502.,\n",
       "         284.,  500.,  593.,  588.,  365.,  497.,  499.,  489.,  496.,\n",
       "         385.,  541.,  558.,  575.,  373.,  660.,  635., 9873.,  917.,\n",
       "         559., 1097., 2113., 5567., 6524.]),\n",
       " array([-308.163  , -295.83648, -283.50996, -271.18344, -258.85692,\n",
       "        -246.5304 , -234.20388, -221.87736, -209.55084, -197.22432,\n",
       "        -184.8978 , -172.57128, -160.24476, -147.91824, -135.59172,\n",
       "        -123.2652 , -110.93868,  -98.61216,  -86.28564,  -73.95912,\n",
       "         -61.6326 ,  -49.30608,  -36.97956,  -24.65304,  -12.32652,\n",
       "           0.     ,   12.32652,   24.65304,   36.97956,   49.30608,\n",
       "          61.6326 ,   73.95912,   86.28564,   98.61216,  110.93868,\n",
       "         123.2652 ,  135.59172,  147.91824,  160.24476,  172.57128,\n",
       "         184.8978 ,  197.22432,  209.55084,  221.87736,  234.20388,\n",
       "         246.5304 ,  258.85692,  271.18344,  283.50996,  295.83648,\n",
       "         308.163  ]),\n",
       " <BarContainer object of 50 artists>)"
      ]
     },
     "execution_count": 22,
     "metadata": {},
     "output_type": "execute_result"
    },
    {
     "data": {
      "application/vnd.jupyter.widget-view+json": {
       "model_id": "aff2d2169b9347ac810bf2413d98dfef",
       "version_major": 2,
       "version_minor": 0
      },
      "text/html": [
       "\n",
       "            <div style=\"display: inline-block;\">\n",
       "                <div class=\"jupyter-widgets widget-label\" style=\"text-align: center;\">\n",
       "                    Figure\n",
       "                </div>\n",
       "                <img src='data:image/png;base64,iVBORw0KGgoAAAANSUhEUgAAAoAAAAHgCAYAAAA10dzkAAAAOXRFWHRTb2Z0d2FyZQBNYXRwbG90bGliIHZlcnNpb24zLjQuMywgaHR0cHM6Ly9tYXRwbG90bGliLm9yZy/MnkTPAAAACXBIWXMAAA9hAAAPYQGoP6dpAAArNklEQVR4nO3de3SU1aH38V9CyIXLTLiYDDkGSEW5KFUBjYPKqocsgkZbWtqKpkA1BbGJp4CHW4vBWhUMigIilFrBs4qCrFUuJYBkBYFTDAEjCASI9hQKQiexJ2QGEBIg+/3Dl+cwQg1WMjPJ/n7WmlXneXZm9rObZL48c0mUMcYIAAAA1ogO9wQAAAAQWgQgAACAZQhAAAAAyxCAAAAAliEAAQAALEMAAgAAWIYABAAAsAwBCAAAYBkCEAAAwDIEIAAAgGUIQAAAAMsQgAAAAJYhAAEAACxDAAIAAFiGAAQAALAMAQgAAGAZAhAAAMAyBCAAAIBlCEAAAADLEIAAAACWIQABAAAsQwACAABYhgAEAACwDAEIAABgGQIQAADAMgQgAACAZQhAAAAAyxCAAAAAliEAAQAALEMAAgAAWIYABAAAsAwBCAAAYBkCEAAAwDIEIAAAgGUIQAAAAMsQgAAAAJYhAAEAACxDAAIAAFiGAAQAALAMAQgAAGAZAhAAAMAyBCAAAIBlCEAAAADLEIAAAACWIQABAAAsQwACAABYhgAEAACwDAEIAABgGQIQAADAMgQgAACAZQhAAAAAyxCAAAAAliEAAQAALEMAAgAAWIYABAAAsAwBCAAAYJmYcE+gKauvr9exY8fUtm1bRUVFhXs6AADgChhjdOLECaWkpCg62s5zYQTgN3Ds2DGlpqaGexoAAOBfcOTIEV177bXhnkZYEIDfQNu2bSV98Q3kcrnCPBsAAHAlAoGAUlNTncdxGxGA38CFp31dLhcBCABAE2Pzy7fsfOIbAADAYgQgAACAZQhAAAAAyxCAAAAAliEAAQAALBPyANyyZYseeOABpaSkKCoqSitXrgzab4xRfn6+OnXqpISEBGVkZOiTTz4JGlNdXa3s7Gy5XC4lJiYqJydHJ0+eDBqze/du3X333YqPj1dqaqoKCgoumcvy5cvVo0cPxcfHq3fv3lq7du1VP14AAIBIE/IAPHXqlG6++WbNmzfvsvsLCgo0Z84cLViwQKWlpWrdurUyMzN15swZZ0x2drbKy8tVVFSkNWvWaMuWLRo9erSzPxAIaNCgQerSpYvKyso0c+ZMPf3001q4cKEz5v3339dDDz2knJwc7dy5U0OGDNGQIUO0d+/exjt4AACASGDCSJJZsWKFc72+vt54PB4zc+ZMZ1tNTY2Ji4szb7/9tjHGmH379hlJZseOHc6YdevWmaioKHP06FFjjDGvvfaaadeunamtrXXGTJo0yXTv3t25/uMf/9hkZWUFzSc9Pd089thjVzx/v99vJBm/33/FXwMAAMKLx29jIuo1gAcPHpTP51NGRoazze12Kz09XSUlJZKkkpISJSYmql+/fs6YjIwMRUdHq7S01BkzYMAAxcbGOmMyMzNVUVGh48ePO2Muvp8LYy7cDwAAQHMVUX8JxOfzSZKSk5ODticnJzv7fD6fkpKSgvbHxMSoffv2QWPS0tIuuY0L+9q1ayefz/eV93M5tbW1qq2tda4HAoGvc3gAAAARIaLOAEa66dOny+12O5fU1NRwTwkAAOBri6gA9Hg8kqTKysqg7ZWVlc4+j8ejqqqqoP3nzp1TdXV10JjL3cbF9/HPxlzYfzlTpkyR3+93LkeOHPm6hwgAABB2ERWAaWlp8ng8Ki4udrYFAgGVlpbK6/VKkrxer2pqalRWVuaM2bhxo+rr65Wenu6M2bJli86ePeuMKSoqUvfu3dWuXTtnzMX3c2HMhfu5nLi4OLlcrqALAABAUxPyADx58qR27dqlXbt2SfrijR+7du3S4cOHFRUVpbFjx+rZZ5/V6tWrtWfPHo0YMUIpKSkaMmSIJKlnz54aPHiwRo0ape3bt2vr1q3Ky8vTsGHDlJKSIkl6+OGHFRsbq5ycHJWXl2vZsmWaPXu2xo8f78zjF7/4hdavX6+XXnpJBw4c0NNPP60PPvhAeXl5oV4SAACAkIoyxphQ3uGmTZt0zz33XLJ95MiRWrx4sYwxmjZtmhYuXKiamhrdddddeu2113TDDTc4Y6urq5WXl6c//elPio6O1tChQzVnzhy1adPGGbN7927l5uZqx44d6tixo5544glNmjQp6D6XL1+uqVOn6tChQ7r++utVUFCg++6774qPJRAIyO12y+/3czYQANAouk4ubHDMoRlZIZhJ88HjdxgCsDnhGwgA0NgIwKuPx+8Iew0gAAAAGh8BCAAAYBkCEAAAwDIEIAAAgGUIQAAAAMsQgAAAAJYhAAEAACxDAAIAAFiGAAQAALAMAQgAAGAZAhAAAMAyBCAAAIBlCEAAAADLEIAAAACWIQABAAAsQwACAABYhgAEAACwDAEIAABgGQIQAADAMgQgAACAZQhAAAAAyxCAAAAAliEAAQAALEMAAgAAWIYABAAAsAwBCAAAYBkCEAAAwDIEIAAAgGUIQAAAAMsQgAAAAJYhAAEAACxDAAIAAFiGAAQAALAMAQgAAGAZAhAAAMAyBCAAAIBlCEAAAADLEIAAAACWIQABAAAsQwACAABYhgAEAACwDAEIAABgGQIQAADAMgQgAACAZQhAAAAAyxCAAAAAliEAAQAALEMAAgAAWIYABAAAsAwBCAAAYBkCEAAAwDIEIAAAgGUIQAAAAMsQgAAAAJYhAAEAACxDAAIAAFiGAAQAALAMAQgAAGAZAhAAAMAyBCAAAIBlIi4Az58/r6eeekppaWlKSEjQddddp9/85jcyxjhjjDHKz89Xp06dlJCQoIyMDH3yySdBt1NdXa3s7Gy5XC4lJiYqJydHJ0+eDBqze/du3X333YqPj1dqaqoKCgpCcowAAADhFHEB+MILL2j+/Pl69dVXtX//fr3wwgsqKCjQ3LlznTEFBQWaM2eOFixYoNLSUrVu3VqZmZk6c+aMMyY7O1vl5eUqKirSmjVrtGXLFo0ePdrZHwgENGjQIHXp0kVlZWWaOXOmnn76aS1cuDCkxwsAABBqUebiU2sR4P7771dycrJ+//vfO9uGDh2qhIQE/eEPf5AxRikpKXryySf1n//5n5Ikv9+v5ORkLV68WMOGDdP+/fvVq1cv7dixQ/369ZMkrV+/Xvfdd58+/fRTpaSkaP78+frVr34ln8+n2NhYSdLkyZO1cuVKHThw4IrmGggE5Ha75ff75XK5rvJKAAAgdZ1c2OCYQzOyQjCT5oPH7wg8A9i/f38VFxfr448/liR99NFH+vOf/6x7771XknTw4EH5fD5lZGQ4X+N2u5Wenq6SkhJJUklJiRITE534k6SMjAxFR0ertLTUGTNgwAAn/iQpMzNTFRUVOn78eKMfJwAAQLjEhHsCXzZ58mQFAgH16NFDLVq00Pnz5/Xcc88pOztbkuTz+SRJycnJQV+XnJzs7PP5fEpKSgraHxMTo/bt2weNSUtLu+Q2Luxr167dJXOrra1VbW2tcz0QCHyTQwUAAAiLiDsD+M4772jJkiV666239OGHH+rNN9/Uiy++qDfffDPcU9P06dPldrudS2pqarinBAAA8LVFXABOmDBBkydP1rBhw9S7d28NHz5c48aN0/Tp0yVJHo9HklRZWRn0dZWVlc4+j8ejqqqqoP3nzp1TdXV10JjL3cbF9/FlU6ZMkd/vdy5Hjhz5hkcLAAAQehEXgJ9//rmio4On1aJFC9XX10uS0tLS5PF4VFxc7OwPBAIqLS2V1+uVJHm9XtXU1KisrMwZs3HjRtXX1ys9Pd0Zs2XLFp09e9YZU1RUpO7du1/26V9JiouLk8vlCroAAAA0NREXgA888ICee+45FRYW6tChQ1qxYoVmzZql73//+5KkqKgojR07Vs8++6xWr16tPXv2aMSIEUpJSdGQIUMkST179tTgwYM1atQobd++XVu3blVeXp6GDRumlJQUSdLDDz+s2NhY5eTkqLy8XMuWLdPs2bM1fvz4cB06AABASETcm0Dmzp2rp556Sj//+c9VVVWllJQUPfbYY8rPz3fGTJw4UadOndLo0aNVU1Oju+66S+vXr1d8fLwzZsmSJcrLy9PAgQMVHR2toUOHas6cOc5+t9utDRs2KDc3V3379lXHjh2Vn58f9FmBAAAAzVHEfQ5gU8LnCAEAGhufA3j18fgdgU8BAwAAoHERgAAAAJYhAAEAACxDAAIAAFiGAAQAALAMAQgAAGAZAhAAAMAyBCAAAIBlCEAAAADLEIAAAACWIQABAAAsQwACAABYhgAEAACwDAEIAABgGQIQAADAMgQgAACAZQhAAAAAyxCAAAAAliEAAQAALEMAAgAAWIYABAAAsAwBCAAAYBkCEAAAwDIEIAAAgGUIQAAAAMsQgAAAAJYhAAEAACxDAAIAAFiGAAQAALAMAQgAAGAZAhAAAMAyBCAAAIBlCEAAAADLEIAAAACWIQABAAAsQwACAABYhgAEAACwDAEIAABgGQIQAADAMgQgAACAZQhAAAAAyxCAAAAAliEAAQAALEMAAgAAWIYABAAAsAwBCAAAYBkCEAAAwDIx4Z4AAACwT9fJhQ2OOTQjKwQzsRNnAAEAACxDAAIAAFiGAAQAALAMAQgAAGAZAhAAAMAyBCAAAIBlCEAAAADLEIAAAACWIQABAAAsQwACAABYhgAEAACwDAEIAABgGQIQAADAMhEZgEePHtVPfvITdejQQQkJCerdu7c++OADZ78xRvn5+erUqZMSEhKUkZGhTz75JOg2qqurlZ2dLZfLpcTEROXk5OjkyZNBY3bv3q27775b8fHxSk1NVUFBQUiODwAAIJwiLgCPHz+uO++8Uy1bttS6deu0b98+vfTSS2rXrp0zpqCgQHPmzNGCBQtUWlqq1q1bKzMzU2fOnHHGZGdnq7y8XEVFRVqzZo22bNmi0aNHO/sDgYAGDRqkLl26qKysTDNnztTTTz+thQsXhvR4AQAAQi0m3BP4shdeeEGpqalatGiRsy0tLc35b2OMXnnlFU2dOlXf+973JEn/9V//peTkZK1cuVLDhg3T/v37tX79eu3YsUP9+vWTJM2dO1f33XefXnzxRaWkpGjJkiWqq6vTG2+8odjYWN14443atWuXZs2aFRSKAAAAzU3EnQFcvXq1+vXrpx/96EdKSkrSrbfeqt/97nfO/oMHD8rn8ykjI8PZ5na7lZ6erpKSEklSSUmJEhMTnfiTpIyMDEVHR6u0tNQZM2DAAMXGxjpjMjMzVVFRoePHj192brW1tQoEAkEXAACApibiAvCvf/2r5s+fr+uvv17vvvuuHn/8cf3Hf/yH3nzzTUmSz+eTJCUnJwd9XXJysrPP5/MpKSkpaH9MTIzat28fNOZyt3HxfXzZ9OnT5Xa7nUtqauo3PFoAAIDQi7gArK+vV58+ffT888/r1ltv1ejRozVq1CgtWLAg3FPTlClT5Pf7ncuRI0fCPSUAAICvLeICsFOnTurVq1fQtp49e+rw4cOSJI/HI0mqrKwMGlNZWens83g8qqqqCtp/7tw5VVdXB4253G1cfB9fFhcXJ5fLFXQBAABoaiIuAO+8805VVFQEbfv444/VpUsXSV+8IcTj8ai4uNjZHwgEVFpaKq/XK0nyer2qqalRWVmZM2bjxo2qr69Xenq6M2bLli06e/asM6aoqEjdu3cPescxAABAcxNxAThu3Dht27ZNzz//vP7yl7/orbfe0sKFC5WbmytJioqK0tixY/Xss89q9erV2rNnj0aMGKGUlBQNGTJE0hdnDAcPHqxRo0Zp+/bt2rp1q/Ly8jRs2DClpKRIkh5++GHFxsYqJydH5eXlWrZsmWbPnq3x48eH69ABAABCIuI+Bua2227TihUrNGXKFD3zzDNKS0vTK6+8ouzsbGfMxIkTderUKY0ePVo1NTW66667tH79esXHxztjlixZory8PA0cOFDR0dEaOnSo5syZ4+x3u93asGGDcnNz1bdvX3Xs2FH5+fl8BAwAAGj2oowxJtyTaKoCgYDcbrf8fj+vBwQANIqukwsbHHNoRlYIZnJ1hfO4ePyOwKeAAQAA0LgIQAAAAMsQgAAAAJYhAAEAACxDAAIAAFiGAAQAALAMAQgAAGAZAhAAAMAyBCAAAIBlIu5PwQEAgKbtSv7KB8KLM4AAAACWIQABAAAsQwACAABYhgAEAACwDAEIAABgGQIQAADAMgQgAACAZQhAAAAAyxCAAAAAliEAAQAALEMAAgAAWIYABAAAsAwBCAAAYBkCEAAAwDIEIAAAgGUIQAAAAMsQgAAAAJYhAAEAACxDAAIAAFiGAAQAALAMAQgAAGAZAhAAAMAyBCAAAIBlCEAAAADLEIAAAACWIQABAAAsQwACAABYhgAEAACwDAEIAABgGQIQAADAMgQgAACAZQhAAAAAyxCAAAAAliEAAQAALEMAAgAAWIYABAAAsAwBCAAAYBkCEAAAwDIEIAAAgGUIQAAAAMsQgAAAAJYhAAEAACxDAAIAAFiGAAQAALAMAQgAAGAZAhAAAMAyBCAAAIBlCEAAAADLEIAAAACWIQABAAAsE/EBOGPGDEVFRWns2LHOtjNnzig3N1cdOnRQmzZtNHToUFVWVgZ93eHDh5WVlaVWrVopKSlJEyZM0Llz54LGbNq0SX369FFcXJy6deumxYsXh+CIAAAAwiuiA3DHjh367W9/q29/+9tB28eNG6c//elPWr58uTZv3qxjx47pBz/4gbP//PnzysrKUl1dnd5//329+eabWrx4sfLz850xBw8eVFZWlu655x7t2rVLY8eO1c9+9jO9++67ITs+AACAcIjYADx58qSys7P1u9/9Tu3atXO2+/1+/f73v9esWbP07//+7+rbt68WLVqk999/X9u2bZMkbdiwQfv27dMf/vAH3XLLLbr33nv1m9/8RvPmzVNdXZ0kacGCBUpLS9NLL72knj17Ki8vTz/84Q/18ssvh+V4AQAAQiViAzA3N1dZWVnKyMgI2l5WVqazZ88Gbe/Ro4c6d+6skpISSVJJSYl69+6t5ORkZ0xmZqYCgYDKy8udMV++7czMTOc2AAAAmquYcE/gcpYuXaoPP/xQO3bsuGSfz+dTbGysEhMTg7YnJyfL5/M5Yy6Ovwv7L+z7qjGBQECnT59WQkLCJfddW1ur2tpa53ogEPj6BwcAABBmEXcG8MiRI/rFL36hJUuWKD4+PtzTCTJ9+nS53W7nkpqaGu4pAQAAfG0RF4BlZWWqqqpSnz59FBMTo5iYGG3evFlz5sxRTEyMkpOTVVdXp5qamqCvq6yslMfjkSR5PJ5L3hV84XpDY1wu12XP/knSlClT5Pf7ncuRI0euxiEDAACEVMQF4MCBA7Vnzx7t2rXLufTr10/Z2dnOf7ds2VLFxcXO11RUVOjw4cPyer2SJK/Xqz179qiqqsoZU1RUJJfLpV69ejljLr6NC2Mu3MblxMXFyeVyBV0AAACamoh7DWDbtm110003BW1r3bq1OnTo4GzPycnR+PHj1b59e7lcLj3xxBPyer264447JEmDBg1Sr169NHz4cBUUFMjn82nq1KnKzc1VXFycJGnMmDF69dVXNXHiRD366KPauHGj3nnnHRUWFob2gAEAAEIs4gLwSrz88suKjo7W0KFDVVtbq8zMTL322mvO/hYtWmjNmjV6/PHH5fV61bp1a40cOVLPPPOMMyYtLU2FhYUaN26cZs+erWuvvVavv/66MjMzw3FIAAAAIRNljDHhnkRTFQgE5Ha75ff7eToYANAouk5u+JmpQzOyQjCTK3clc74SjXVcPH5H4GsAAQAA0LgIQAAAAMsQgAAAAJYhAAEAACxDAAIAAFiGAAQAALAMAQgAAGAZAhAAAMAyBCAAAIBlCEAAAADLEIAAAACWIQABAAAsQwACAABYhgAEAACwDAEIAABgGQIQAADAMgQgAACAZQhAAAAAyxCAAAAAliEAAQAALEMAAgAAWIYABAAAsAwBCAAAYBkCEAAAwDIEIAAAgGUIQAAAAMsQgAAAAJYhAAEAACxDAAIAAFiGAAQAALAMAQgAAGAZAhAAAMAyBCAAAIBlCEAAAADLEIAAAACWIQABAAAsQwACAABYhgAEAACwDAEIAABgGQIQAADAMgQgAACAZQhAAAAAyxCAAAAAliEAAQAALEMAAgAAWIYABAAAsAwBCAAAYBkCEAAAwDIEIAAAgGUIQAAAAMsQgAAAAJYhAAEAACxDAAIAAFiGAAQAALAMAQgAAGAZAhAAAMAyBCAAAIBlCEAAAADLEIAAAACWIQABAAAsE3EBOH36dN12221q27atkpKSNGTIEFVUVASNOXPmjHJzc9WhQwe1adNGQ4cOVWVlZdCYw4cPKysrS61atVJSUpImTJigc+fOBY3ZtGmT+vTpo7i4OHXr1k2LFy9u7MMDAAAIu5hwT+DLNm/erNzcXN122206d+6cfvnLX2rQoEHat2+fWrduLUkaN26cCgsLtXz5crndbuXl5ekHP/iBtm7dKkk6f/68srKy5PF49P777+vvf/+7RowYoZYtW+r555+XJB08eFBZWVkaM2aMlixZouLiYv3sZz9Tp06dlJmZGbbjBwAgknWdXBjuKeAqiDLGmHBP4qt89tlnSkpK0ubNmzVgwAD5/X5dc801euutt/TDH/5QknTgwAH17NlTJSUluuOOO7Ru3Trdf//9OnbsmJKTkyVJCxYs0KRJk/TZZ58pNjZWkyZNUmFhofbu3evc17Bhw1RTU6P169df0dwCgYDcbrf8fr9cLtfVP3gAgPWuJLgOzcgKwUy+EMoAbKzj4vE7Ap8C/jK/3y9Jat++vSSprKxMZ8+eVUZGhjOmR48e6ty5s0pKSiRJJSUl6t27txN/kpSZmalAIKDy8nJnzMW3cWHMhdsAAABoriLuKeCL1dfXa+zYsbrzzjt10003SZJ8Pp9iY2OVmJgYNDY5OVk+n88Zc3H8Xdh/Yd9XjQkEAjp9+rQSEhIumU9tba1qa2ud64FA4JsdIAAAQBhE9BnA3Nxc7d27V0uXLg33VCR98QYVt9vtXFJTU8M9JQAAgK8tYgMwLy9Pa9as0Xvvvadrr73W2e7xeFRXV6eampqg8ZWVlfJ4PM6YL78r+ML1hsa4XK7Lnv2TpClTpsjv9zuXI0eOfKNjBAAACIeIC0BjjPLy8rRixQpt3LhRaWlpQfv79u2rli1bqri42NlWUVGhw4cPy+v1SpK8Xq/27NmjqqoqZ0xRUZFcLpd69erljLn4Ni6MuXAblxMXFyeXyxV0AQAAaGoi7jWAubm5euutt7Rq1Sq1bdvWec2e2+1WQkKC3G63cnJyNH78eLVv314ul0tPPPGEvF6v7rjjDknSoEGD1KtXLw0fPlwFBQXy+XyaOnWqcnNzFRcXJ0kaM2aMXn31VU2cOFGPPvqoNm7cqHfeeUeFhby9HQAANG8RdwZw/vz58vv9+s53vqNOnTo5l2XLljljXn75Zd1///0aOnSoBgwYII/Hoz/+8Y/O/hYtWmjNmjVq0aKFvF6vfvKTn2jEiBF65plnnDFpaWkqLCxUUVGRbr75Zr300kt6/fXX+QxAAADQ7EX85wBGssb+HKFI++wnAEDoRdpjAZ8D2DxE3BlAAAAANC4CEAAAwDIEIAAAgGUIQAAAAMsQgAAAAJYhAAEAACxDAAIAAFiGAAQAALAMAQgAAGAZAhAAAMAyBCAAAIBlCEAAAADLEIAAAACWIQABAAAsQwACAABYhgAEAACwDAEIAABgGQIQAADAMgQgAACAZQhAAAAAyxCAAAAAliEAAQAALBMT7gngm+k6ubDBMYdmZIVgJgAAoKngDCAAAIBlCEAAAADLEIAAAACW4TWAAABA0pW9rhzNA2cAAQAALEMAAgAAWIYABAAAsAwBCAAAYBkCEAAAwDIEIAAAgGX4GBgAAJo4/iwovi7OAAIAAFiGM4AW4F+GAADgYpwBBAAAsAxnACGJs4QAANiEAMRVRUgCABD5CECEHJEIAEB48RpAAAAAyxCAAAAAluEpYDRZPJUMIJLxOwqRjABERLqSX5wA0NTxuw7hQgACQBNxtWKBs04ACEBYj6dpAHvYHNGcbcTFCEDgCoTyQSOUv6Qj7UGMGMc3QeAAV44ABBASzfXB+WpFa6Stj81nygAbEIC4YpH2AAX8M5xJjByEJBCZCEAA3xj/OACApoUARLMWaWHSFOfDmRcAaH4IQAD4JyIt2G3G/xfA1UUAAoBliKlvjjVEU0cAArASD+AAbEYAAvhKhBIAND8EIIAmpSkGaVOcM4DmLTrcEwAAAEBoEYAAAACWIQABAAAsQwACAABYhgAEAACwjPUBOG/ePHXt2lXx8fFKT0/X9u3bwz0lAACARmV1AC5btkzjx4/XtGnT9OGHH+rmm29WZmamqqqqwj01AACARmN1AM6aNUujRo3SI488ol69emnBggVq1aqV3njjjXBPDQAAoNFY+0HQdXV1Kisr05QpU5xt0dHRysjIUElJyWW/pra2VrW1tc51v98vSQoEAo0yx/razxvldgEAaAoa6/H1wu0aYxrl9psCawPwH//4h86fP6/k5OSg7cnJyTpw4MBlv2b69On69a9/fcn21NTURpkjAAA2c7/SuLd/4sQJud3uxr2TCGVtAP4rpkyZovHjxzvX6+vrVV1drQ4dOigqKiokcwgEAkpNTdWRI0fkcrlCcp9NDWvUMNaoYaxRw1ijhrFGDQvHGhljdOLECaWkpITk/iKRtQHYsWNHtWjRQpWVlUHbKysr5fF4Lvs1cXFxiouLC9qWmJjYWFP8Si6Xi18mDWCNGsYaNYw1ahhr1DDWqGGhXiNbz/xdYO2bQGJjY9W3b18VFxc72+rr61VcXCyv1xvGmQEAADQua88AStL48eM1cuRI9evXT7fffrteeeUVnTp1So888ki4pwYAANBorA7ABx98UJ999pny8/Pl8/l0yy23aP369Ze8MSSSxMXFadq0aZc8FY3/wxo1jDVqGGvUMNaoYaxRw1ij8IgyNr8HGgAAwELWvgYQAADAVgQgAACAZQhAAAAAyxCAAAAAliEAI9R3v/tdde7cWfHx8erUqZOGDx+uY8eOBY3ZvXu37r77bsXHxys1NVUFBQWX3M7y5cvVo0cPxcfHq3fv3lq7dm2oDqFRHTp0SDk5OUpLS1NCQoKuu+46TZs2TXV1dUHjbF4jSXruuefUv39/tWrV6p9+aPnhw4eVlZWlVq1aKSkpSRMmTNC5c+eCxmzatEl9+vRRXFycunXrpsWLFzf+5MNo3rx56tq1q+Lj45Wenq7t27eHe0ohtWXLFj3wwANKSUlRVFSUVq5cGbTfGKP8/Hx16tRJCQkJysjI0CeffBI0prq6WtnZ2XK5XEpMTFROTo5OnjwZwqNoPNOnT9dtt92mtm3bKikpSUOGDFFFRUXQmDNnzig3N1cdOnRQmzZtNHTo0Ev+8MCV/Ow1VfPnz9e3v/1t58OdvV6v1q1b5+y3fX0igkFEmjVrlikpKTGHDh0yW7duNV6v13i9Xme/3+83ycnJJjs72+zdu9e8/fbbJiEhwfz2t791xmzdutW0aNHCFBQUmH379pmpU6eali1bmj179oTjkK6qdevWmZ/+9Kfm3XffNf/zP/9jVq1aZZKSksyTTz7pjLF9jYwxJj8/38yaNcuMHz/euN3uS/afO3fO3HTTTSYjI8Ps3LnTrF271nTs2NFMmTLFGfPXv/7VtGrVyowfP97s27fPzJ0717Ro0cKsX78+hEcSOkuXLjWxsbHmjTfeMOXl5WbUqFEmMTHRVFZWhntqIbN27Vrzq1/9yvzxj380ksyKFSuC9s+YMcO43W6zcuVK89FHH5nvfve7Ji0tzZw+fdoZM3jwYHPzzTebbdu2mf/+7/823bp1Mw899FCIj6RxZGZmmkWLFpm9e/eaXbt2mfvuu8907tzZnDx50hkzZswYk5qaaoqLi80HH3xg7rjjDtO/f39n/5X87DVlq1evNoWFhebjjz82FRUV5pe//KVp2bKl2bt3rzGG9YkEBGATsWrVKhMVFWXq6uqMMca89tprpl27dqa2ttYZM2nSJNO9e3fn+o9//GOTlZUVdDvp6enmscceC82kQ6ygoMCkpaU511mj/7No0aLLBuDatWtNdHS08fl8zrb58+cbl8vlrNvEiRPNjTfeGPR1Dz74oMnMzGzUOYfL7bffbnJzc53r58+fNykpKWb69OlhnFX4fDkA6+vrjcfjMTNnznS21dTUmLi4OPP2228bY4zZt2+fkWR27NjhjFm3bp2JiooyR48eDdncQ6WqqspIMps3bzbGfLEeLVu2NMuXL3fG7N+/30gyJSUlxpgr+9lrbtq1a2def/111idC8BRwE1BdXa0lS5aof//+atmypSSppKREAwYMUGxsrDMuMzNTFRUVOn78uDMmIyMj6LYyMzNVUlISusmHkN/vV/v27Z3rrFHDSkpK1Lt376APP8/MzFQgEFB5ebkzxpY1qqurU1lZWdDxRkdHKyMjo1ke77/i4MGD8vl8QWvkdruVnp7urFFJSYkSExPVr18/Z0xGRoaio6NVWloa8jk3Nr/fL0nO75+ysjKdPXs2aI169Oihzp07B61RQz97zcX58+e1dOlSnTp1Sl6vl/WJEARgBJs0aZJat26tDh066PDhw1q1apWzz+fzXfIXSy5c9/l8Xznmwv7m5C9/+Yvmzp2rxx57zNnGGjXsm6xRIBDQ6dOnQzPREPnHP/6h8+fPW/090ZAL6/BVa+Tz+ZSUlBS0PyYmRu3bt29261hfX6+xY8fqzjvv1E033STpi+OPjY295HW3X16jhn72mro9e/aoTZs2iouL05gxY7RixQr16tWL9YkQBGAITZ48WVFRUV95OXDggDN+woQJ2rlzpzZs2KAWLVpoxIgRMs38D7d83TWSpKNHj2rw4MH60Y9+pFGjRoVp5qHzr6wRgMaRm5urvXv3aunSpeGeSsTp3r27du3apdLSUj3++OMaOXKk9u3bF+5p4f+z+m8Bh9qTTz6pn/70p1855lvf+pbz3x07dlTHjh11ww03qGfPnkpNTdW2bdvk9Xrl8XguecfUhesej8f538uNubA/En3dNTp27Jjuuece9e/fXwsXLgwaxxo1zOPxXPIO1ytdI5fLpYSEhCucddPQsWNHtWjRosl9T4TShXWorKxUp06dnO2VlZW65ZZbnDFVVVVBX3fu3DlVV1c3q3XMy8vTmjVrtGXLFl177bXOdo/Ho7q6OtXU1ASd5br4++hKfvaautjYWHXr1k2S1LdvX+3YsUOzZ8/Wgw8+yPpEAM4AhtA111yjHj16fOXl4terXay+vl6SVFtbK0nyer3asmWLzp4964wpKipS9+7d1a5dO2dMcXFx0O0UFRXJ6/U2xuFdFV9njY4eParvfOc76tu3rxYtWqTo6OBvZ9aoYV6vV3v27Al6sC4qKpLL5VKvXr2cMU1tjf5VsbGx6tu3b9Dx1tfXq7i4uFke778iLS1NHo8naI0CgYBKS0udNfJ6vaqpqVFZWZkzZuPGjaqvr1d6enrI53y1GWOUl5enFStWaOPGjUpLSwva37dvX7Vs2TJojSoqKnT48OGgNWroZ6+5qa+vV21tLesTKcL9LhRcatu2bWbu3Llm586d5tChQ6a4uNj079/fXHfddebMmTPGmC/eZZacnGyGDx9u9u7da5YuXWpatWp1yUecxMTEmBdffNHs37/fTJs2rdl8xMmnn35qunXrZgYOHGg+/fRT8/e//925XGD7GhljzN/+9jezc+dO8+tf/9q0adPG7Ny50+zcudOcOHHCGPN/H7UwaNAgs2vXLrN+/XpzzTXXXPZjYCZMmGD2799v5s2b1+w/BiYuLs4sXrzY7Nu3z4wePdokJiYGvRuxuTtx4oTzvSLJzJo1y+zcudP87W9/M8Z88TEwiYmJZtWqVWb37t3me9/73mU/BubWW281paWl5s9//rO5/vrrm83HwDz++OPG7XabTZs2Bf3u+fzzz50xY8aMMZ07dzYbN240H3zwwSUf5XUlP3tN2eTJk83mzZvNwYMHze7du83kyZNNVFSU2bBhgzGG9YkEBGAE2r17t7nnnntM+/btTVxcnOnatasZM2aM+fTTT4PGffTRR+auu+4ycXFx5t/+7d/MjBkzLrmtd955x9xwww0mNjbW3HjjjaawsDBUh9GoFi1aZCRd9nIxm9fIGGNGjhx52TV67733nDGHDh0y9957r0lISDAdO3Y0Tz75pDl79mzQ7bz33nvmlltuMbGxseZb3/qWWbRoUWgPJMTmzp1rOnfubGJjY83tt99utm3bFu4phdR777132e+bkSNHGmO++CiYp556yiQnJ5u4uDgzcOBAU1FREXQb//u//2seeugh06ZNG+Nyucwjjzzi/MOjqftnv3su/rk4ffq0+fnPf27atWtnWrVqZb7//e8H/QPVmCv72WuqHn30UdOlSxcTGxtrrrnmGjNw4EAn/oxhfSJBlDHN/F0FAAAACMJrAAEAACxDAAIAAFiGAAQAALAMAQgAAGAZAhAAAMAyBCAAAIBlCEAAAADLEIAAAACWIQABAAAsQwACAABYhgAEAACwDAEIAABgGQIQAADAMgQgAACAZQhAAAAAyxCAAAAAliEAAQAALEMAAgAAWIYABAAAsAwBCAAAYBkCEAAAwDIEIAAAgGUIQAAAAMsQgAAAAJYhAAEAACxDAAIAAFiGAAQAALAMAQgAAGAZAhAAAMAyBCAAAIBlCEAAAADL/D+ZOOAlnx1sJwAAAABJRU5ErkJggg==' width=640.0/>\n",
       "            </div>\n",
       "        "
      ],
      "text/plain": [
       "Canvas(toolbar=Toolbar(toolitems=[('Home', 'Reset original view', 'home', 'home'), ('Back', 'Back to previous …"
      ]
     },
     "metadata": {},
     "output_type": "display_data"
    }
   ],
   "source": [
    "%matplotlib widget\n",
    "import matplotlib.pyplot as plt\n",
    "plt.hist(file_old['small_clusters']['x'],bins=50)"
   ]
  },
  {
   "cell_type": "code",
   "execution_count": 24,
   "id": "d242427e",
   "metadata": {},
   "outputs": [
    {
     "data": {
      "text/plain": [
       "False"
      ]
     },
     "execution_count": 24,
     "metadata": {},
     "output_type": "execute_result"
    }
   ],
   "source": [
    "import os\n",
    "filename = '/sdf/group/neutrino/sfogarty/module0_files/charge_data/datalog_2021_04_04_00_41_40_CEST_events.h5'\n",
    "os.path.exists(filename)"
   ]
  },
  {
   "cell_type": "code",
   "execution_count": null,
   "id": "d5a66b82",
   "metadata": {},
   "outputs": [],
   "source": []
  }
 ],
 "metadata": {
  "kernelspec": {
   "display_name": "Python 3 (ipykernel)",
   "language": "python",
   "name": "python3"
  },
  "language_info": {
   "codemirror_mode": {
    "name": "ipython",
    "version": 3
   },
   "file_extension": ".py",
   "mimetype": "text/x-python",
   "name": "python",
   "nbconvert_exporter": "python",
   "pygments_lexer": "ipython3",
   "version": "3.8.10"
  }
 },
 "nbformat": 4,
 "nbformat_minor": 5
}
