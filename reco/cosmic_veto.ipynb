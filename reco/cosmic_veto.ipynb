{
 "cells": [
  {
   "cell_type": "code",
   "execution_count": 6,
   "id": "c1482449",
   "metadata": {},
   "outputs": [],
   "source": [
    "import numpy as np\n",
    "import matplotlib.pyplot as plt\n",
    "import matplotlib.colors as colors\n",
    "import plotly.graph_objects as go\n",
    "import h5py\n",
    "import time"
   ]
  },
  {
   "cell_type": "code",
   "execution_count": 2,
   "id": "fa936811",
   "metadata": {},
   "outputs": [],
   "source": [
    "#file = h5py.File('/sdf/group/neutrino/sfogarty/ND_prototype_files/charge_data/module-3/tpc_12-packet-2023_02_22_12_45_CET_module-3_events.h5', 'r')\n",
    "file = h5py.File('/sdf/group/neutrino/sfogarty/ND_prototype_files/charge_data/module-0/datalog_2021_04_04_00_41_40_CEST_module-0_events_60s_to_360s.h5', 'r')"
   ]
  },
  {
   "cell_type": "code",
   "execution_count": null,
   "id": "3b496749",
   "metadata": {},
   "outputs": [],
   "source": [
    "large_clusters = file['large_clusters']\n",
    "small_clusters = file['small_clusters']\n",
    "\n",
    "chunk_size = 100  # number of events to process in each chunk\n",
    "n_chunks = (len(large_clusters) + chunk_size - 1) // chunk_size  # number of chunks\n",
    "PPS_window = 1e3\n",
    "\n",
    "near_cosmic = np.zeros(len(large_clusters), dtype=np.int32)  # initialize the result array\n",
    "\n",
    "start = time.time()\n",
    "for i in range(1):\n",
    "    start_idx = i * chunk_size\n",
    "    end_idx = min((i + 1) * chunk_size, len(large_clusters))\n",
    "    \n",
    "    t_min = large_clusters[start_idx:end_idx]['t_min']\n",
    "    t_max = large_clusters[start_idx:end_idx]['t_max']\n",
    "    unix = large_clusters[start_idx:end_idx]['unix']\n",
    "    \n",
    "    t_small_clusters = small_clusters['t']\n",
    "    unix_small_clusters = small_clusters['unix']\n",
    "    \n",
    "    PPS_min_match = t_min[:, np.newaxis] - PPS_window < t_small_clusters\n",
    "    PPS_max_match = t_max[:, np.newaxis] + PPS_window > t_small_clusters\n",
    "    unix_match = unix[:, np.newaxis] == unix_small_clusters\n",
    "    PPS_match = np.logical_and(PPS_min_match, np.logical_and(PPS_max_match, unix_match))\n",
    "    \n",
    "    near_cosmic[start_idx:end_idx] = np.sum(PPS_match, axis=1)\n",
    "\n",
    "end = time.time()\n",
    "print('total time = ', end-start)"
   ]
  },
  {
   "cell_type": "code",
   "execution_count": 5,
   "id": "302b45d0",
   "metadata": {},
   "outputs": [
    {
     "data": {
      "text/plain": [
       "31"
      ]
     },
     "execution_count": 5,
     "metadata": {},
     "output_type": "execute_result"
    }
   ],
   "source": [
    "n_chunks"
   ]
  },
  {
   "cell_type": "code",
   "execution_count": null,
   "id": "423ce1d6",
   "metadata": {},
   "outputs": [],
   "source": []
  }
 ],
 "metadata": {
  "kernelspec": {
   "display_name": "Python 3 (ipykernel)",
   "language": "python",
   "name": "python3"
  },
  "language_info": {
   "codemirror_mode": {
    "name": "ipython",
    "version": 3
   },
   "file_extension": ".py",
   "mimetype": "text/x-python",
   "name": "python",
   "nbconvert_exporter": "python",
   "pygments_lexer": "ipython3",
   "version": "3.8.10"
  }
 },
 "nbformat": 4,
 "nbformat_minor": 5
}
