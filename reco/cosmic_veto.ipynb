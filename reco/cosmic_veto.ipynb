{
 "cells": [
  {
   "cell_type": "code",
   "execution_count": 2,
   "id": "c1482449",
   "metadata": {},
   "outputs": [],
   "source": [
    "import numpy as np\n",
    "import matplotlib.pyplot as plt\n",
    "import matplotlib.colors as colors\n",
    "import plotly.graph_objects as go\n",
    "import h5py\n",
    "import time"
   ]
  },
  {
   "cell_type": "code",
   "execution_count": 3,
   "id": "fa936811",
   "metadata": {},
   "outputs": [],
   "source": [
    "#file = h5py.File('/sdf/group/neutrino/sfogarty/ND_prototype_files/charge_data/module-3/tpc_12-packet-2023_02_22_12_45_CET_module-3_events.h5', 'r')\n",
    "file = h5py.File('/sdf/group/neutrino/sfogarty/ND_prototype_files/charge_data/module-0/datalog_2021_04_04_00_41_40_CEST_module-0_events_60s_to_360s.h5', 'r')\n",
    "#file = h5py.File('/sdf/group/neutrino/sfogarty/ND_prototype_files/charge_data/module-0/datalog_2021_04_04_00_41_40_CEST_module-0_events_60s_to_150s_cosmics_veto.h5', 'r')"
   ]
  },
  {
   "cell_type": "code",
   "execution_count": 47,
   "id": "6610381d",
   "metadata": {},
   "outputs": [
    {
     "data": {
      "text/plain": [
       "array([[False, False, False, False, False, False, False, False, False],\n",
       "       [False, False, False, False, False, False, False, False, False],\n",
       "       [False, False, False, False, False, False, False, False, False],\n",
       "       [False, False, False, False, False, False, False, False, False],\n",
       "       [False, False, False, False, False, False, False, False, False],\n",
       "       [False, False, False, False, False, False, False, False, False],\n",
       "       [False, False, False, False, False, False, False, False, False],\n",
       "       [False, False, False, False, False, False, False, False, False],\n",
       "       [ True,  True,  True,  True,  True,  True,  True,  True,  True]])"
      ]
     },
     "execution_count": 47,
     "metadata": {},
     "output_type": "execute_result"
    }
   ],
   "source": [
    "large_clusters = file['large_clusters']\n",
    "small_clusters = file['small_clusters']\n",
    "\n",
    "t_min = large_clusters['t_min']\n",
    "mask = np.array([100,20,-30,-2,1,2,5,6,1000])[:, np.newaxis] > np.array([100,200,300,400,500,600,700,800,900])\n",
    "mask"
   ]
  },
  {
   "cell_type": "code",
   "execution_count": 50,
   "id": "8172cc98",
   "metadata": {},
   "outputs": [
    {
     "data": {
      "text/plain": [
       "array([False, False, False, False, False, False, False, False, False])"
      ]
     },
     "execution_count": 50,
     "metadata": {},
     "output_type": "execute_result"
    }
   ],
   "source": [
    "(np.sum(mask, axis=0)).astype('bool')"
   ]
  },
  {
   "cell_type": "code",
   "execution_count": 51,
   "id": "5152a894",
   "metadata": {},
   "outputs": [
    {
     "data": {
      "text/plain": [
       "array([False,  True,  True,  True, False,  True,  True, False])"
      ]
     },
     "execution_count": 51,
     "metadata": {},
     "output_type": "execute_result"
    }
   ],
   "source": [
    "np.array([0,2,1,3,0,55,4,0]).astype(bool)"
   ]
  },
  {
   "cell_type": "code",
   "execution_count": 32,
   "id": "fa1f98f3",
   "metadata": {},
   "outputs": [
    {
     "data": {
      "text/plain": [
       "array([[nan,  1.,  2.,  3.,  4.,  5.,  6.,  7.,  8.],\n",
       "       [nan, nan,  2.,  3.,  4.,  5.,  6.,  7.,  8.],\n",
       "       [nan, nan, nan,  3.,  4.,  5.,  6.,  7.,  8.],\n",
       "       [ 0.,  1.,  2.,  3.,  4.,  5.,  6.,  7.,  8.],\n",
       "       [nan,  1.,  2.,  3.,  4.,  5.,  6.,  7.,  8.],\n",
       "       [nan, nan,  2.,  3.,  4.,  5.,  6.,  7.,  8.],\n",
       "       [nan, nan, nan, nan, nan,  5.,  6.,  7.,  8.],\n",
       "       [nan, nan, nan, nan, nan, nan,  6.,  7.,  8.],\n",
       "       [ 0.,  1.,  2.,  3.,  4.,  5.,  6.,  7.,  8.]])"
      ]
     },
     "execution_count": 32,
     "metadata": {},
     "output_type": "execute_result"
    }
   ],
   "source": [
    "true_indices = np.where(mask, np.arange(mask.shape[1]), np.nan)\n",
    "true_indices"
   ]
  },
  {
   "cell_type": "code",
   "execution_count": 14,
   "id": "77874045",
   "metadata": {},
   "outputs": [
    {
     "ename": "TypeError",
     "evalue": "where() got an unexpected keyword argument 'axis'",
     "output_type": "error",
     "traceback": [
      "\u001b[0;31m---------------------------------------------------------------------------\u001b[0m",
      "\u001b[0;31mTypeError\u001b[0m                                 Traceback (most recent call last)",
      "\u001b[0;32m/tmp/ipykernel_23570/336836118.py\u001b[0m in \u001b[0;36m<module>\u001b[0;34m\u001b[0m\n\u001b[0;32m----> 1\u001b[0;31m \u001b[0mnp\u001b[0m\u001b[0;34m.\u001b[0m\u001b[0mwhere\u001b[0m\u001b[0;34m(\u001b[0m\u001b[0mnp\u001b[0m\u001b[0;34m.\u001b[0m\u001b[0marray\u001b[0m\u001b[0;34m(\u001b[0m\u001b[0;34m[\u001b[0m\u001b[0;36m1\u001b[0m\u001b[0;34m,\u001b[0m\u001b[0;36m2\u001b[0m\u001b[0;34m,\u001b[0m\u001b[0;36m3\u001b[0m\u001b[0;34m,\u001b[0m\u001b[0;36m0\u001b[0m\u001b[0;34m,\u001b[0m\u001b[0;36m1\u001b[0m\u001b[0;34m,\u001b[0m\u001b[0;36m2\u001b[0m\u001b[0;34m,\u001b[0m\u001b[0;36m5\u001b[0m\u001b[0;34m,\u001b[0m\u001b[0;36m6\u001b[0m\u001b[0;34m,\u001b[0m\u001b[0;36m0\u001b[0m\u001b[0;34m]\u001b[0m\u001b[0;34m)\u001b[0m\u001b[0;34m[\u001b[0m\u001b[0;34m:\u001b[0m\u001b[0;34m,\u001b[0m \u001b[0mnp\u001b[0m\u001b[0;34m.\u001b[0m\u001b[0mnewaxis\u001b[0m\u001b[0;34m]\u001b[0m \u001b[0;34m<\u001b[0m \u001b[0mnp\u001b[0m\u001b[0;34m.\u001b[0m\u001b[0marray\u001b[0m\u001b[0;34m(\u001b[0m\u001b[0;34m[\u001b[0m\u001b[0;36m1\u001b[0m\u001b[0;34m,\u001b[0m\u001b[0;36m2\u001b[0m\u001b[0;34m,\u001b[0m\u001b[0;36m3\u001b[0m\u001b[0;34m,\u001b[0m\u001b[0;36m4\u001b[0m\u001b[0;34m,\u001b[0m\u001b[0;36m5\u001b[0m\u001b[0;34m,\u001b[0m\u001b[0;36m6\u001b[0m\u001b[0;34m,\u001b[0m\u001b[0;36m7\u001b[0m\u001b[0;34m,\u001b[0m\u001b[0;36m8\u001b[0m\u001b[0;34m,\u001b[0m\u001b[0;36m9\u001b[0m\u001b[0;34m]\u001b[0m\u001b[0;34m)\u001b[0m\u001b[0;34m,\u001b[0m \u001b[0maxis\u001b[0m\u001b[0;34m=\u001b[0m\u001b[0;36m1\u001b[0m\u001b[0;34m)\u001b[0m\u001b[0;34m\u001b[0m\u001b[0;34m\u001b[0m\u001b[0m\n\u001b[0m",
      "\u001b[0;32m<__array_function__ internals>\u001b[0m in \u001b[0;36mwhere\u001b[0;34m(*args, **kwargs)\u001b[0m\n",
      "\u001b[0;31mTypeError\u001b[0m: where() got an unexpected keyword argument 'axis'"
     ]
    }
   ],
   "source": [
    "np.where(np.array([1,2,3,0,1,2,5,6,0])[:, np.newaxis] < np.array([1,2,3,4,5,6,7,8,9]), axis=1)"
   ]
  },
  {
   "cell_type": "code",
   "execution_count": 3,
   "id": "423ce1d6",
   "metadata": {},
   "outputs": [],
   "source": [
    "small_clusters_near_cosmic = file['small_clusters_near_cosmic']\n",
    "small_clusters_not_near_cosmic = file['small_clusters_not_near_cosmic']\n",
    "large_clusters = file['large_clusters']"
   ]
  },
  {
   "cell_type": "code",
   "execution_count": 4,
   "id": "e50e67db",
   "metadata": {},
   "outputs": [
    {
     "name": "stdout",
     "output_type": "stream",
     "text": [
      "Number of small clusters near large clusters =  303\n",
      "Number of small clusters not near large clusters =  344893\n"
     ]
    }
   ],
   "source": [
    "print('Number of small clusters near large clusters = ', len(small_clusters_near_cosmic))\n",
    "print('Number of small clusters not near large clusters = ', len(small_clusters_not_near_cosmic))"
   ]
  },
  {
   "cell_type": "code",
   "execution_count": 6,
   "id": "c2bb95c1",
   "metadata": {},
   "outputs": [
    {
     "data": {
      "text/plain": [
       "0.08777621988667308"
      ]
     },
     "execution_count": 6,
     "metadata": {},
     "output_type": "execute_result"
    }
   ],
   "source": [
    "len(small_clusters_near_cosmic)/(len(small_clusters_near_cosmic)+len(small_clusters_not_near_cosmic)) * 100"
   ]
  },
  {
   "cell_type": "code",
   "execution_count": null,
   "id": "51b97c92",
   "metadata": {},
   "outputs": [],
   "source": []
  }
 ],
 "metadata": {
  "kernelspec": {
   "display_name": "Python 3 (ipykernel)",
   "language": "python",
   "name": "python3"
  },
  "language_info": {
   "codemirror_mode": {
    "name": "ipython",
    "version": 3
   },
   "file_extension": ".py",
   "mimetype": "text/x-python",
   "name": "python",
   "nbconvert_exporter": "python",
   "pygments_lexer": "ipython3",
   "version": "3.8.10"
  }
 },
 "nbformat": 4,
 "nbformat_minor": 5
}
